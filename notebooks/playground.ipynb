{
 "cells": [
  {
   "cell_type": "code",
   "execution_count": 2,
   "metadata": {},
   "outputs": [],
   "source": [
    "import pandas as pd\n",
    "import numpy as np\n",
    "from scipy.optimize import minimize\n",
    "from sklearn.svm import SVR\n",
    "\n",
    "# print only 2 decimas for floats\n",
    "pd.options.display.float_format = '{:.4f}'.format\n",
    "np.set_printoptions(precision=4)"
   ]
  },
  {
   "cell_type": "code",
   "execution_count": 4,
   "metadata": {},
   "outputs": [
    {
     "name": "stdout",
     "output_type": "stream",
     "text": [
      "Optimal values: [ 2. -3.]\n",
      "Minimum function value: 6.888828789745692e-14\n"
     ]
    }
   ],
   "source": [
    "# Define the function to minimize\n",
    "def objective_function(vars):\n",
    "    x, y = vars  # Unpacking variables\n",
    "    return (x - 2)**2 + (y + 3)**2\n",
    "\n",
    "# Initial guess\n",
    "initial_guess = [0, 0]\n",
    "\n",
    "# Perform the minimization\n",
    "result = minimize(objective_function, initial_guess)\n",
    "\n",
    "# Print the result\n",
    "print(\"Optimal values:\", result.x)\n",
    "print(\"Minimum function value:\", result.fun)\n"
   ]
  },
  {
   "cell_type": "code",
   "execution_count": 7,
   "metadata": {},
   "outputs": [
    {
     "name": "stdout",
     "output_type": "stream",
     "text": [
      "Optimal values: [ 1.9902 -3.0581]\n",
      "Minimum function value: 0.06679052039527988\n"
     ]
    }
   ],
   "source": [
    "# Create a dataset\n",
    "df = pd.DataFrame()\n",
    "df['x'] = np.random.uniform(-5, 5, 10000)\n",
    "df['y'] = np.random.uniform(-5, 5, 10000)\n",
    "df['z'] = objective_function([df['x'], df['y']])\n",
    "\n",
    "model = SVR(C=10).fit(df[['x', 'y']].values, df['z'].values)\n",
    "\n",
    "def ml_objective(vars):\n",
    "    x, y = vars\n",
    "    return model.predict([[x, y]])[0]\n",
    "\n",
    "initial_guess = [0, 0]\n",
    "\n",
    "result = minimize(ml_objective, initial_guess, method='Nelder-Mead')\n",
    "\n",
    "# Print the result\n",
    "print(\"Optimal values:\", result.x)\n",
    "print(\"Minimum function value:\", result.fun)"
   ]
  },
  {
   "cell_type": "code",
   "execution_count": null,
   "metadata": {},
   "outputs": [],
   "source": []
  }
 ],
 "metadata": {
  "kernelspec": {
   "display_name": "main",
   "language": "python",
   "name": "python3"
  },
  "language_info": {
   "codemirror_mode": {
    "name": "ipython",
    "version": 3
   },
   "file_extension": ".py",
   "mimetype": "text/x-python",
   "name": "python",
   "nbconvert_exporter": "python",
   "pygments_lexer": "ipython3",
   "version": "3.10.13"
  }
 },
 "nbformat": 4,
 "nbformat_minor": 2
}
