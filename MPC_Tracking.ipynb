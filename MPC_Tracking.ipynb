{
 "cells": [
  {
   "cell_type": "markdown",
   "id": "077f5537",
   "metadata": {},
   "source": [
    "# MPC as tracking controller"
   ]
  },
  {
   "cell_type": "code",
   "execution_count": 1,
   "id": "b6b804e0",
   "metadata": {},
   "outputs": [],
   "source": [
    "import pandas as pd\n",
    "from scipy.integrate import odeint\n",
    "import matplotlib.pyplot as plt\n",
    "import numpy as np\n",
    "from scipy.integrate import solve_ivp\n",
    "from scipy.optimize import minimize"
   ]
  },
  {
   "cell_type": "code",
   "execution_count": null,
   "id": "ed40436d",
   "metadata": {},
   "outputs": [],
   "source": [
    "# ========================\n",
    "# SYSTEM PARAMETERS\n",
    "# ========================\n",
    "mu_max = 0.86988      # 1/h\n",
    "Ks = 0.000123762      # g/L\n",
    "Yxs = 0.435749        # g/g\n",
    "Sin = 286.0           # g/L\n",
    "V0 = 1.7              # L, initial volume\n",
    "X0 = 4.9              # g/L, initial biomass\n",
    "S0 = 1.673            # g/L, initial substrate\n",
    "F0 = 0.1              # L/h\n",
    "K_I = 33              # Inhibition constant\n",
    "K_D = 0.03            # Decay coefficient\n",
    "\n"
   ]
  },
  {
   "cell_type": "code",
   "execution_count": 465,
   "id": "33f97276",
   "metadata": {},
   "outputs": [],
   "source": [
    "# ========================\n",
    "# MODEL DEFINITIONS\n",
    "# ========================\n",
    "def Euler(X,S,V,F,h,dt):\n",
    "    Xcurrent,Scurrent,Vcurrent=X,S,V\n",
    "    Fcurrent=F\n",
    "    Num=int(dt/h)\n",
    "    for i in range(Num):\n",
    "        # Update time\n",
    "        t = i * h\n",
    "        \n",
    "        # Calculate next state using Euler method\n",
    "        Xnext, Snext, Vnext = euler_step(Xcurrent, Scurrent, Vcurrent, Fcurrent, h)\n",
    "        \n",
    "        # Update current state for next iteration\n",
    "        Xcurrent, Scurrent, Vcurrent = Xnext, Snext, Vnext\n",
    "    return Xcurrent, Scurrent, Vcurrent\n",
    "\n",
    "def euler_step(Xcurrent, Scurrent, Vcurrent, Fcurrent, h):\n",
    "    derivatives = plant_model(0, [Xcurrent, Scurrent, Vcurrent], Fcurrent)\n",
    "    # Update each state with its corresponding derivative\n",
    "    Xnext = Xcurrent + h * derivatives[0]  # dX_dt\n",
    "    Snext = Scurrent + h * derivatives[1]  # dS_dt\n",
    "    Vnext = Vcurrent + h * derivatives[2]  # dV_dt\n",
    "    return Xnext, Snext, Vnext\n",
    "\n",
    "def plant_model(t, y, F):\n",
    "    \"\"\"Controller's simplified model\"\"\"\n",
    "    X, S, V = y\n",
    "    S = np.maximum(S, 0)  # Prevent negative substrate\n",
    "    \n",
    "    # Simplified growth model (no inhibition/decay)\n",
    "    mu = mu_max * S / (Ks + S)\n",
    "    dX_dt = mu * X - (F/V) * X\n",
    "    dS_dt = -(1/Yxs) * mu * X + (F/V)*(Sin - S)\n",
    "    dV_dt = F\n",
    "    \n",
    "    return np.array([dX_dt, dS_dt, dV_dt])\n",
    "\n",
    "def actual_model(t, y, F):\n",
    "    \"\"\"Real system dynamics\"\"\"\n",
    "    X, S, V = y\n",
    "    S = max(S,0)  # Prevent negative substrate \n",
    "    # True growth model with inhibition and decay\n",
    "    mu = mu_max * S / (Ks + S + S**2/K_I)\n",
    "    dX_dt = mu * X - (F/V) * X - K_D * X\n",
    "    dS_dt = -(1/Yxs) * mu * X + (F/V)*(Sin - S)\n",
    "    dV_dt = F\n",
    "    \n",
    "    return np.array([dX_dt, dS_dt, dV_dt])\n",
    "\n",
    "# ========================\n",
    "# DISCRETIZED MODEL (RK4)\n",
    "# ========================\n",
    "def discrete_model(t_start, X, S, V, F, h, dt):\n",
    "    \"\"\"RK4 integration with time awareness\"\"\"\n",
    "    Num = int(dt/h)\n",
    "    t = t_start\n",
    "    X_curr, S_curr, V_curr = X, S, V\n",
    "    \n",
    "    for _ in range(Num):\n",
    "        k1 = h*plant_model(t, [X_curr, S_curr, V_curr], F)\n",
    "        k2 = h*plant_model(t + h/2, [\n",
    "            X_curr + k1[0]*h/2,\n",
    "            S_curr + k1[1]*h/2,\n",
    "            V_curr + k1[2]*h/2\n",
    "        ], F)\n",
    "        k3 = h*plant_model(t + h/2, [\n",
    "            X_curr + k2[0]*h/2,\n",
    "            S_curr + k2[1]*h/2,\n",
    "            V_curr + k2[2]*h/2\n",
    "        ], F)\n",
    "        k4 = h*plant_model(t + h, [\n",
    "            X_curr + k3[0]*h,\n",
    "            S_curr + k3[1]*h,\n",
    "            V_curr + k3[2]*h\n",
    "        ], F)\n",
    "\n",
    "        X_next = X_curr + (h/6)*(k1[0] + 2*k2[0] + 2*k3[0] + k4[0])\n",
    "        S_next = S_curr + (h/6)*(k1[1] + 2*k2[1] + 2*k3[1] + k4[1])\n",
    "        V_next = V_curr + (h/6)*(k1[2] + 2*k2[2] + 2*k3[2] + k4[2])\n",
    "        \n",
    "        X_curr, S_curr, V_curr = X_next, S_next, V_next\n",
    "        t += h\n",
    "        \n",
    "    return X_curr, S_curr, V_curr\n",
    "\n",
    "# ========================\n",
    "# SETPOINT FUNCTION\n",
    "# ========================\n",
    "def Cb_set(t):\n",
    "    return 25  # Constant setpoint\n",
    "\n",
    "# ========================\n",
    "# COST FUNCTION\n",
    "# ========================\n",
    "def cost_function(F_opt, X, S, V, current_time,method=\"Euler\"):\n",
    "    J = 0\n",
    "    X_curr, S_curr, V_curr = X, S, V\n",
    "    \n",
    "    for k in range(Np):\n",
    "        pred_time = current_time + k*dt\n",
    "        Cb_target = Cb_set(pred_time)\n",
    "        \n",
    "        if method==\"Euler\":\n",
    "            # Predict next state using Euler method\n",
    "            X_next, S_next, V_next = Euler(X_curr, S_curr, V_curr, F_opt[k], h, dt)\n",
    "        else:\n",
    "             # Predict next state using controller's model\n",
    "            X_next, S_next, V_next = discrete_model(\n",
    "            pred_time, X_curr, S_curr, V_curr, F_opt[k], h, dt\n",
    "        )\n",
    "        \n",
    "        # Tracking error cost\n",
    "        J += Q * (Cb_target - X_next)**2\n",
    "        \n",
    "        # Control smoothness cost\n",
    "        if k > 0:\n",
    "            J += R * (F_opt[k] - F_opt[k-1])**2\n",
    "            \n",
    "        X_curr, S_curr, V_curr = X_next, S_next, V_next\n",
    "    \n",
    "    return J"
   ]
  },
  {
   "cell_type": "code",
   "execution_count": 528,
   "id": "de777849",
   "metadata": {},
   "outputs": [],
   "source": [
    "# ========================\n",
    "# MPC SIMULATION SETUP\n",
    "# ========================\n",
    "\n",
    "# ========================\n",
    "# MPC PARAMETERS\n",
    "# ========================\n",
    "dt = 0.1              # Control interval time (h)\n",
    "Q = 0.1             # State tracking weight\n",
    "R = 3              # Control effort weight\n",
    "h = 0.01              # integration step size\n",
    "At = 6                # Total simulation time (h)\n",
    "Np = 12            # Prediction horizon steps\n",
    "bnds = [(0, 0.1) for _ in range(Np)]  # Control input bounds\n",
    "\n",
    "# Calculate simulation steps\n",
    "SS = int(At/dt)\n",
    "np.random.seed(0)    # For reproducibility\n",
    "\n",
    "# Initialize arrays\n",
    "X = np.zeros(SS+1)\n",
    "S = np.zeros(SS+1)\n",
    "V = np.zeros(SS+1)\n",
    "F = np.zeros(SS)\n",
    "X[0], S[0], V[0] = X0, S0, V0\n",
    "\n",
    "# ========================\n",
    "# MPC MAIN LOOP\n",
    "# ========================\n",
    "for step in range(SS):\n",
    "    current_time = step * dt\n",
    "    \n",
    "    # Simulate measurement with noise\n",
    "    X_measured = X[step] + np.random.normal(0, 1)\n",
    "    \n",
    "    # Solve MPC optimization\n",
    "    res = minimize(\n",
    "        cost_function,\n",
    "        F0 * np.ones(Np),\n",
    "        args=(X_measured, S[step], V[step], current_time),\n",
    "        bounds=bnds,\n",
    "        method=\"SLSQP\",\n",
    "    )\n",
    "    \n",
    "    # Apply first control input\n",
    "    F[step] = res.x[0]\n",
    "    \n",
    "    # Simulate real system with actual model\n",
    "    sol = solve_ivp(\n",
    "        actual_model,\n",
    "        [current_time, current_time + dt],\n",
    "        [X[step], S[step], V[step]],\n",
    "        args=(F[step],),\n",
    "        t_eval=[current_time,current_time + dt],\n",
    "    )\n",
    "    X[step+1], S[step+1], V[step+1] = sol.y[:, -1]\n",
    "\n"
   ]
  },
  {
   "cell_type": "code",
   "execution_count": 529,
   "id": "8f1fa827",
   "metadata": {},
   "outputs": [
    {
     "data": {
      "image/png": "[encoded data removed]",
      "text/plain": [
       "<Figure size 1200x700 with 2 Axes>"
      ]
     },
     "metadata": {},
     "output_type": "display_data"
    }
   ],
   "source": [
    "# ========================\n",
    "# VISUALIZATION\n",
    "# ========================\n",
    "fig, axs = plt.subplots(2, 1, figsize=(12, 7))\n",
    "\n",
    "# Biomass plot\n",
    "time_axis = np.arange(0, At + dt, dt)\n",
    "axs[0].plot(time_axis, X, label='Actual Biomass')\n",
    "axs[0].step(time_axis, [Cb_set(t) for t in time_axis], 'r--', label='Setpoint')\n",
    "axs[0].set_ylabel('Biomass [g/L]')\n",
    "axs[0].legend()\n",
    "axs[0].grid()\n",
    "\n",
    "# Feed rate plot\n",
    "axs[1].step(np.arange(0, At, dt), F, label='Feed Rate')\n",
    "axs[1].set_xlabel('Time [h]')\n",
    "axs[1].set_ylabel('Feed Rate [L/h]')\n",
    "axs[1].legend()\n",
    "axs[1].grid()\n",
    "\n",
    "plt.tight_layout()\n",
    "plt.show()"
   ]
  },
  {
   "cell_type": "code",
   "execution_count": 495,
   "id": "cf05480d",
   "metadata": {},
   "outputs": [
    {
     "data": {
      "text/plain": [
       "array([ 4.9       ,  5.27146197,  5.66247998,  6.07496862,  6.5099339 ,\n",
       "        6.96952133,  7.45594689,  7.97179091,  8.52008203,  9.10440872,\n",
       "        9.72906916, 10.39927708, 11.12145105, 11.90363272, 12.75611133,\n",
       "       13.69239355, 14.73078115, 15.89700115, 16.51312914, 17.03498719,\n",
       "       17.54953574, 18.05689532, 18.55718339, 19.05051625, 19.53700558,\n",
       "       20.01676262, 20.48989531, 20.9557987 , 21.4160086 , 21.86990553,\n",
       "       22.31758949, 22.75915812, 22.69104213, 23.12707317, 23.5572316 ,\n",
       "       23.98155061, 24.37153577, 24.78480614, 25.19249862, 25.59469734,\n",
       "       25.99148589, 26.38294609, 26.7691583 , 26.68902951, 27.07063175,\n",
       "       26.98959981, 27.36672608, 27.73888228, 27.65584852, 28.02362664,\n",
       "       28.38657596, 28.3016019 , 28.66032242, 29.01435051, 29.36369602,\n",
       "       29.70842792, 30.04861332, 30.38431703, 30.71560498, 31.04253857,\n",
       "       31.36518205])"
      ]
     },
     "execution_count": 495,
     "metadata": {},
     "output_type": "execute_result"
    }
   ],
   "source": [
    "X"
   ]
  },
  {
   "cell_type": "code",
   "execution_count": null,
   "id": "03f7595b",
   "metadata": {},
   "outputs": [],
   "source": [
    "# ========================\n",
    "# DATA EXPORT\n",
    "# ========================\n",
    "MPC_data=[X,S,V,F]\n",
    "MPC_df=pd.DataFrame(data=MPC_data).T\n",
    "MPC_df.columns=[\"Biomass\",\"Substrate\",\"Volume\",\"Feed\"]   "
   ]
  },
  {
   "cell_type": "code",
   "execution_count": 122,
   "id": "89cc531b",
   "metadata": {},
   "outputs": [
    {
     "data": {
      "text/plain": [
       "'123'"
      ]
     },
     "execution_count": 122,
     "metadata": {},
     "output_type": "execute_result"
    }
   ],
   "source": [
    "k_string = ''.join(map(str, k))\n",
    "k_string"
   ]
  },
  {
   "cell_type": "code",
   "execution_count": 130,
   "id": "0a2f9024",
   "metadata": {},
   "outputs": [],
   "source": [
    "s_k=\"\"\n",
    "for i in k:\n",
    "    s_k+=str(i)"
   ]
  },
  {
   "cell_type": "code",
   "execution_count": 187,
   "id": "a837fb4c",
   "metadata": {},
   "outputs": [
    {
     "ename": "TypeError",
     "evalue": "unsupported operand type(s) for +: 'int' and 'list'",
     "output_type": "error",
     "traceback": [
      "\u001b[1;31m---------------------------------------------------------------------------\u001b[0m",
      "\u001b[1;31mTypeError\u001b[0m                                 Traceback (most recent call last)",
      "Cell \u001b[1;32mIn[187], line 2\u001b[0m\n\u001b[0;32m      1\u001b[0m k\u001b[38;5;241m=\u001b[39m[\u001b[38;5;241m1\u001b[39m,\u001b[38;5;241m2\u001b[39m,\u001b[38;5;241m3\u001b[39m,\u001b[38;5;241m4\u001b[39m,\u001b[38;5;241m5\u001b[39m,\u001b[38;5;241m6\u001b[39m,\u001b[38;5;241m7\u001b[39m,\u001b[38;5;241m8\u001b[39m,\u001b[38;5;241m9\u001b[39m]\n\u001b[1;32m----> 2\u001b[0m ath\u001b[38;5;241m=\u001b[39m\u001b[38;5;241m1\u001b[39m\u001b[38;5;241m+\u001b[39mk\n",
      "\u001b[1;31mTypeError\u001b[0m: unsupported operand type(s) for +: 'int' and 'list'"
     ]
    }
   ],
   "source": [
    "k=[1,2,3,4,5,6,7,8,9]\n",
    "ath=1+k"
   ]
  },
  {
   "cell_type": "code",
   "execution_count": null,
   "id": "09fd5cf6",
   "metadata": {},
   "outputs": [],
   "source": []
  }
 ],
 "metadata": {
  "kernelspec": {
   "display_name": "Python (base)",
   "language": "python",
   "name": "base"
  },
  "language_info": {
   "codemirror_mode": {
    "name": "ipython",
    "version": 3
   },
   "file_extension": ".py",
   "mimetype": "text/x-python",
   "name": "python",
   "nbconvert_exporter": "python",
   "pygments_lexer": "ipython3",
   "version": "3.12.7"
  }
 },
 "nbformat": 4,
 "nbformat_minor": 5
}
