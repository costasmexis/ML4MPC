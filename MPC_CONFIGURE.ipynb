{
 "cells": [
  {
   "cell_type": "code",
   "execution_count": 1,
   "id": "1ab18806",
   "metadata": {},
   "outputs": [],
   "source": [
    "import optuna\n",
    "import optuna.visualization as vis\n",
    "import numpy as np\n",
    "from scipy.integrate import solve_ivp\n",
    "from scipy.optimize import minimize"
   ]
  },
  {
   "cell_type": "markdown",
   "id": "7abe1964",
   "metadata": {},
   "source": [
    "# MPC FUNCTIONS"
   ]
  },
  {
   "cell_type": "code",
   "execution_count": 2,
   "id": "c4349c64",
   "metadata": {},
   "outputs": [],
   "source": [
    "# ========================\n",
    "# MODEL DEFINITIONS\n",
    "# ========================\n",
    "\n",
    "def assumed_model(t, y, F):\n",
    "    \"\"\"Controller's simplified model\"\"\"\n",
    "    X, S, V = y\n",
    "    S = np.maximum(S, 0)  # Prevent negative substrate\n",
    "    \n",
    "    # Simplified growth model (no inhibition/decay)\n",
    "    mu = mu_max * S / (Ks + S)\n",
    "    dX_dt = mu * X - (F/V) * X\n",
    "    dS_dt = -(1/Yxs) * mu * X + (F/V)*(Sin - S)\n",
    "    dV_dt = F\n",
    "    \n",
    "    return np.array([dX_dt, dS_dt, dV_dt])\n",
    "\n",
    "def actual_model(t, y, F):\n",
    "    \"\"\"Real system dynamics\"\"\"\n",
    "    X, S, V = y\n",
    "    S = max(S,0)  # Prevent negative substrate \n",
    "    # True growth model with inhibition and decay\n",
    "    mu = mu_max * S / (Ks + S + S**2/K_I)\n",
    "    dX_dt = mu * X - (F/V) * X - K_D * X\n",
    "    dS_dt = -(1/Yxs) * mu * X + (F/V)*(Sin - S)\n",
    "    dV_dt = F\n",
    "    \n",
    "    return np.array([dX_dt, dS_dt, dV_dt])\n",
    "\n",
    "# ========================\n",
    "# DISCRETIZED FUNCTIONS \n",
    "# ========================\n",
    "def RK_MODEL(t_start, X, S, V, F, h, dt):\n",
    "    \"\"\"RK4 integration with time awareness\"\"\"\n",
    "    Num = int(dt/h)\n",
    "    t = t_start\n",
    "    X_curr, S_curr, V_curr = X, S, V\n",
    "    \n",
    "    for _ in range(Num):\n",
    "        k1 = assumed_model(t, [X_curr, S_curr, V_curr], F)\n",
    "        k2 = assumed_model(t + h/2, [\n",
    "            X_curr + k1[0]*h/2,\n",
    "            S_curr + k1[1]*h/2,\n",
    "            V_curr + k1[2]*h/2\n",
    "        ], F)\n",
    "        k3 = assumed_model(t + h/2, [\n",
    "            X_curr + k2[0]*h/2,\n",
    "            S_curr + k2[1]*h/2,\n",
    "            V_curr + k2[2]*h/2\n",
    "        ], F)\n",
    "        k4 = assumed_model(t + h, [\n",
    "            X_curr + k3[0]*h,\n",
    "            S_curr + k3[1]*h,\n",
    "            V_curr + k3[2]*h\n",
    "        ], F)\n",
    "\n",
    "        X_next = X_curr + (h/6)*(k1[0] + 2*k2[0] + 2*k3[0] + k4[0])\n",
    "        S_next = S_curr + (h/6)*(k1[1] + 2*k2[1] + 2*k3[1] + k4[1])\n",
    "        V_next = V_curr + (h/6)*(k1[2] + 2*k2[2] + 2*k3[2] + k4[2])\n",
    "        \n",
    "        X_curr, S_curr, V_curr = X_next, S_next, V_next\n",
    "        t += h\n",
    "        \n",
    "    return X_curr, S_curr, V_curr\n",
    "\n",
    "# ========================\n",
    "# SETPOINT FUNCTION\n",
    "# ========================\n",
    "def Cb_set(t):\n",
    "    return 30  # Constant setpoint\n",
    "\n",
    "# ========================\n",
    "# COST FUNCTION\n",
    "# ========================\n",
    "def cost_function(F_opt, X0, S0, V0, current_time, Q, R, Np, h, dt, method=\"RK\"):\n",
    "    \"\"\"\n",
    "    MPC cost function: evaluates tracking and control effort over prediction horizon.\n",
    "    \n",
    "    Parameters:\n",
    "        F_opt: Array of feed rates (Np,)\n",
    "        X0, S0, V0: Initial conditions\n",
    "        current_time: Current simulation time\n",
    "        Q, R: Weights for tracking error and control smoothness\n",
    "        Np: Prediction horizon\n",
    "        h: Integration step size\n",
    "        dt: Time between control updates\n",
    "        method: Integration method (\"RK\" or \"Euler\")\n",
    "\n",
    "    Returns:\n",
    "        J: Scalar cost value\n",
    "    \"\"\"\n",
    "    J = 0\n",
    "    X_curr, S_curr, V_curr = X0, S0, V0\n",
    "\n",
    "    for k in range(Np):\n",
    "        pred_time = current_time + k * dt\n",
    "        setpoint = Cb_set(pred_time)\n",
    "\n",
    "        # Predict next state\n",
    "        if method == \"Euler\":\n",
    "            X_next, S_next, V_next = Euler(X_curr, S_curr, V_curr, F_opt[k], h, dt)\n",
    "        else:\n",
    "            X_next, S_next, V_next = RK_MODEL(pred_time, X_curr, S_curr, V_curr, F_opt[k], h, dt)\n",
    "\n",
    "        # Tracking error\n",
    "        tracking_error = setpoint - X_next\n",
    "        J += Q * tracking_error**2\n",
    "\n",
    "        # Control effort smoothness\n",
    "        if k > 0:\n",
    "            delta_F = F_opt[k] - F_opt[k - 1]\n",
    "            J += R * delta_F**2\n",
    "\n",
    "        # Update states\n",
    "        X_curr, S_curr, V_curr = X_next, S_next, V_next\n",
    "\n",
    "    return J"
   ]
  },
  {
   "cell_type": "code",
   "execution_count": 3,
   "id": "6a7328b9",
   "metadata": {},
   "outputs": [],
   "source": [
    "# ========================\n",
    "# CONSTARINT FUNCTIONS\n",
    "# ========================\n",
    "\n",
    "def Volume_constraint(F_opt, X, S, V, current_time):\n",
    "    X_curr, S_curr, V_curr = X, S, V\n",
    "    Volume_Log= []\n",
    "    for k in range(Np):\n",
    "        X_next, S_next, V_next = RK_MODEL(\n",
    "            current_time + k*dt, X_curr, S_curr, V_curr, F_opt[k], h, dt\n",
    "        )\n",
    "        Volume_Log.append(V_next)\n",
    "        X_curr, S_curr, V_curr = X_next, S_next, V_next\n",
    "    \n",
    "    return Vmax- max(Volume_Log)\n",
    "\n",
    "def Substrate_constraint(F_opt, X, S, V, current_time):\n",
    "    X_curr, S_curr, V_curr = X, S, V\n",
    "    Substrate_Log= []\n",
    "    for k in range(Np):\n",
    "        X_next, S_next, V_next = RK_MODEL(\n",
    "            current_time + k*dt, X_curr, S_curr, V_curr, F_opt[k], h, dt\n",
    "        )\n",
    "        Substrate_Log.append(S_next)\n",
    "        X_curr, S_curr, V_curr = X_next, S_next, V_next\n",
    "    \n",
    "    return min(Substrate_Log) - Smin\n",
    "\n",
    "        "
   ]
  },
  {
   "cell_type": "code",
   "execution_count": 4,
   "id": "975c6c80",
   "metadata": {},
   "outputs": [],
   "source": [
    "# ========================\n",
    "# SYSTEM PARAMETERS\n",
    "# ========================\n",
    "mu_max = 0.8564       # 1/h\n",
    "Ks = 0.1707           # g/L\n",
    "Yxs = 0.4066        # g/g\n",
    "Sin = 286.0           # g/L\n",
    "V0 = 1.6              # L, initial volume\n",
    "X0 = 5              # g/L, initial biomass\n",
    "S0 = 0.37            # g/L, initial substrate\n",
    "F0 = 0.1              # L/h\n",
    "K_I = 33              # Inhibition constant\n",
    "K_D = 0.03            # Decay coefficient\n",
    "\n",
    "\n",
    "# ========================\n",
    "# MPC PARAMETERS\n",
    "# ========================\n",
    "dt = 0.1              # Control interval time (h)\n",
    "Q =  3310          # State tracking weight\n",
    "R =  151         # Control effort weight\n",
    "h = 0.01              # integration step size\n",
    "At = 6                # Total simulation time (h)\n",
    "Np = 15            # Prediction horizon steps\n",
    "\n",
    "#============================\n",
    "# BOUNDS AND CONSTRAINTS\n",
    "#============================\n",
    "\n",
    "bnds = [(0,0.1) for _ in range(Np)]  # Control input bounds\n",
    "Vmax=2.2  # Maximum volume (L)\n",
    "Smin=0.1 # Keep substrate above this value (g/L)\n",
    "\n",
    "\n",
    "#====================\n",
    "# ADDING NOISE\n",
    "#====================\n",
    "biomass_noise_ratio = 0.05  # 5% noise\n",
    "substrate_noise_ratio = 0.03  # 3% noise\n",
    "noise=\"MEASURED\" # Noise \"MODEL\" in model accuracy. We don't know the ground truth exactly./ Noise \"MEASURED\" in measured data. Only handled by the controller.\n",
    "\n",
    "#====================\n",
    "# SIMULATION CONFUGURATION  \n",
    "#====================\n",
    "\n",
    "# Calculate simulation steps\n",
    "SS = int(At/dt)\n",
    "np.random.seed(42)    # For reproducibility\n"
   ]
  },
  {
   "cell_type": "markdown",
   "id": "28f596d9",
   "metadata": {},
   "source": [
    "# Parameter Estimation"
   ]
  },
  {
   "cell_type": "code",
   "execution_count": 5,
   "id": "220ba157",
   "metadata": {},
   "outputs": [],
   "source": [
    "def evaluate_tracking_performance(X, X_setpoint):\n",
    "    error = X - X_setpoint\n",
    "    mse = np.mean(error**2)\n",
    "    \n",
    "    overshoot = np.max(X) - X_setpoint\n",
    "    overshoot_penalty = overshoot if overshoot > 0 else 0\n",
    "\n",
    "    # Settling time: assume we want error < 5% of setpoint for last 5 steps\n",
    "    tol = 0.01 * X_setpoint\n",
    "    settling_penalty = np.sum(np.abs(error[-5:]) > tol)\n",
    "\n",
    "    score = 10 * mse + 5 * overshoot_penalty + 20 * settling_penalty\n",
    "    return -score\n",
    "\n",
    "   "
   ]
  },
  {
   "cell_type": "code",
   "execution_count": 9,
   "id": "6639bd88",
   "metadata": {},
   "outputs": [],
   "source": [
    "# ========================\n",
    "# MPC MAIN LOOP\n",
    "# ========================\n",
    "def MPC_LOOP_OPT(constraint=False,Q_val=3310, R_val=151, Np_val=15, X_setpoint=30):\n",
    "    global Q, R, Np\n",
    "    Q, R, Np = Q_val, R_val, Np_val\n",
    "    previous_F_opt = F0 * np.ones(Np)  # Initial guess for first optimization\n",
    "    # Initialize arrays\n",
    "    X = np.zeros(SS+1)\n",
    "    S = np.zeros(SS+1)\n",
    "    V = np.zeros(SS+1)\n",
    "    F = np.zeros(SS)\n",
    "    X[0], S[0], V[0] = X0, S0, V0\n",
    "    bnds = [(0, 0.1) for _ in range(Np_val)]  # Dynamic bounds\n",
    "   \n",
    "    for step in range(SS):\n",
    "        current_time = step * dt\n",
    "        \n",
    "        # Simulate measurement with noise\n",
    "        X_measured = X[step] #+np.random.normal(0,X[step]*biomass_noise_ratio)\n",
    "        S_measured = S[step] #+np.random.normal (0,S[step]*substrate_noise_ratio)\n",
    "        F_guess =np.full(Np_val, previous_F_opt[-1])\n",
    "\n",
    "        # Solve MPC optimization\n",
    "        res = minimize(\n",
    "                cost_function,\n",
    "                F_guess,\n",
    "                args=(X_measured, S_measured, V[step], current_time, Q_val, R_val, Np_val, h, dt),\n",
    "                bounds=bnds,\n",
    "                constraints={'type': 'ineq', 'fun': lambda F_opt: Volume_constraint(F_opt, X[step], S[step], V[step], current_time)} if constraint else None,\n",
    "                method=\"SLSQP\",\n",
    "            )\n",
    "\n",
    "        \n",
    "        previous_F_opt = res.x\n",
    "        # Apply first control input\n",
    "        F[step] = res.x[0]\n",
    "        \n",
    "        # Simulate real system with actual model\n",
    "        sol = solve_ivp(\n",
    "            actual_model,\n",
    "            [current_time, current_time + dt],\n",
    "            [X[step], S[step], V[step]],\n",
    "            args=(F[step],),\n",
    "            t_eval=[current_time,current_time + dt],\n",
    "        )\n",
    "        X[step+1], S[step+1], V[step+1] = sol.y[:, -1]\n",
    "    return evaluate_tracking_performance(X, X_setpoint)\n",
    "\n"
   ]
  },
  {
   "cell_type": "code",
   "execution_count": 10,
   "id": "b0eab64d",
   "metadata": {},
   "outputs": [],
   "source": [
    "def objective(trial):\n",
    "    # Let Optuna suggest values\n",
    "    Q_val = trial.suggest_float(\"Q\", 1, 100,step=1)\n",
    "    R_val = trial.suggest_float(\"R\", 1,100, step=1)\n",
    "    Np_val = trial.suggest_int(\"Np\", 8,8)\n",
    "\n",
    "    # Run your MPC controller with these parameters\n",
    "    score = MPC_LOOP_OPT(\n",
    "        constraint=False,\n",
    "        Q_val=Q_val,\n",
    "        R_val=R_val,\n",
    "        Np_val=Np_val,\n",
    "        X_setpoint=30\n",
    "    )\n",
    "\n",
    "    return -score  # because Optuna minimizes by default\n",
    "\n",
    "\n",
    "\n",
    "# ========================\n",
    "# OPTIMIZATION WITH CHANGING SEED\n",
    "# ========================\n",
    "# def objective(trial):\n",
    "#     Q_val = trial.suggest_float(\"Q\", 1, 1000, log=False, step=1)\n",
    "#     R_val = trial.suggest_float(\"R\", 7000, 10000, log=False, step=1)\n",
    "#     Np_val = trial.suggest_int(\"Np\",12,12)\n",
    "    \n",
    "#     scores = []\n",
    "#     for seed in np.random.randint(0,1000,30):  # try 3 different random seeds\n",
    "#         np.random.seed(seed)  # ensure variability\n",
    "#         score = MPC_LOOP_OPT(\n",
    "#             constraint=False,\n",
    "#             Q_val=Q_val,\n",
    "#             R_val=R_val,\n",
    "#             Np_val=Np_val,\n",
    "#             X_setpoint=30\n",
    "#         )\n",
    "#         scores.append(score)\n",
    "#     return -np.mean(scores)  # minimize average loss\n"
   ]
  },
  {
   "cell_type": "code",
   "execution_count": 11,
   "id": "ca7889c3",
   "metadata": {},
   "outputs": [
    {
     "name": "stderr",
     "output_type": "stream",
     "text": [
      "[I 2025-05-15 11:16:04,248] A new study created in memory with name: no-name-fa4fe670-e837-4c20-b379-7d1574250058\n"
     ]
    },
    {
     "name": "stderr",
     "output_type": "stream",
     "text": [
      "[I 2025-05-15 11:16:12,866] Trial 0 finished with value: 1767.678039574866 and parameters: {'Q': 3.0, 'R': 9970.0, 'Np': 8}. Best is trial 0 with value: 1767.678039574866.\n",
      "[I 2025-05-15 11:16:14,719] Trial 1 finished with value: 1857.4438436412822 and parameters: {'Q': 78.0, 'R': 23.0, 'Np': 8}. Best is trial 0 with value: 1767.678039574866.\n",
      "[I 2025-05-15 11:16:17,422] Trial 2 finished with value: 1798.641177532258 and parameters: {'Q': 39.0, 'R': 18.0, 'Np': 8}. Best is trial 0 with value: 1767.678039574866.\n",
      "[I 2025-05-15 11:16:18,825] Trial 3 finished with value: 1953.9800073224737 and parameters: {'Q': 58.0, 'R': 65.0, 'Np': 8}. Best is trial 0 with value: 1767.678039574866.\n",
      "[I 2025-05-15 11:16:20,541] Trial 4 finished with value: 1923.5742463113431 and parameters: {'Q': 60.0, 'R': 65.0, 'Np': 8}. Best is trial 0 with value: 1767.678039574866.\n",
      "[I 2025-05-15 11:16:22,227] Trial 5 finished with value: 2026.0630319152197 and parameters: {'Q': 77.0, 'R': 54.0, 'Np': 8}. Best is trial 0 with value: 1767.678039574866.\n",
      "[I 2025-05-15 11:16:24,949] Trial 6 finished with value: 1783.8700469256562 and parameters: {'Q': 24.0, 'R': 20.0, 'Np': 8}. Best is trial 0 with value: 1767.678039574866.\n",
      "[I 2025-05-15 11:16:26,594] Trial 7 finished with value: 1906.3561540161097 and parameters: {'Q': 40.0, 'R': 83.0, 'Np': 8}. Best is trial 0 with value: 1767.678039574866.\n",
      "[I 2025-05-15 11:16:28,563] Trial 8 finished with value: 1803.988657962339 and parameters: {'Q': 66.0, 'R': 62.0, 'Np': 8}. Best is trial 0 with value: 1767.678039574866.\n",
      "[I 2025-05-15 11:16:31,057] Trial 9 finished with value: 1822.5488272978134 and parameters: {'Q': 92.0, 'R': 14.0, 'Np': 8}. Best is trial 0 with value: 1767.678039574866.\n",
      "[I 2025-05-15 11:16:33,689] Trial 10 finished with value: 1778.8716880471077 and parameters: {'Q': 7.0, 'R': 100.0, 'Np': 8}. Best is trial 0 with value: 1767.678039574866.\n",
      "[I 2025-05-15 11:16:37,446] Trial 11 finished with value: 1768.3293367143426 and parameters: {'Q': 1.0, 'R': 100.0, 'Np': 8}. Best is trial 0 with value: 1767.678039574866.\n",
      "[I 2025-05-15 11:16:40,265] Trial 12 finished with value: 1778.8716880471077 and parameters: {'Q': 7.0, 'R': 100.0, 'Np': 8}. Best is trial 0 with value: 1767.678039574866.\n",
      "[I 2025-05-15 11:16:43,710] Trial 13 finished with value: 1775.1729143543846 and parameters: {'Q': 22.0, 'R': 100.0, 'Np': 8}. Best is trial 0 with value: 1767.678039574866.\n",
      "[I 2025-05-15 11:16:47,495] Trial 14 finished with value: 1768.3293367143426 and parameters: {'Q': 1.0, 'R': 100.0, 'Np': 8}. Best is trial 0 with value: 1767.678039574866.\n",
      "[I 2025-05-15 11:16:50,359] Trial 15 finished with value: 1778.8724549755104 and parameters: {'Q': 20.0, 'R': 100.0, 'Np': 8}. Best is trial 0 with value: 1767.678039574866.\n",
      "[I 2025-05-15 11:16:53,107] Trial 16 finished with value: 1794.0426196463777 and parameters: {'Q': 36.0, 'R': 100.0, 'Np': 8}. Best is trial 0 with value: 1767.678039574866.\n",
      "[I 2025-05-15 11:16:56,196] Trial 17 finished with value: 1778.871748878356 and parameters: {'Q': 18.0, 'R': 100.0, 'Np': 8}. Best is trial 0 with value: 1767.678039574866.\n",
      "[I 2025-05-15 11:17:00,127] Trial 18 finished with value: 1768.3293367143426 and parameters: {'Q': 1.0, 'R': 100.0, 'Np': 8}. Best is trial 0 with value: 1767.678039574866.\n",
      "[I 2025-05-15 11:17:02,318] Trial 19 finished with value: 1883.8898173503992 and parameters: {'Q': 32.0, 'R': 100.0, 'Np': 8}. Best is trial 0 with value: 1767.678039574866.\n",
      "[I 2025-05-15 11:17:03,912] Trial 20 finished with value: 1877.914891217075 and parameters: {'Q': 47.0, 'R': 34.0, 'Np': 8}. Best is trial 0 with value: 1767.678039574866.\n",
      "[I 2025-05-15 11:17:07,656] Trial 21 finished with value: 1768.3293367143426 and parameters: {'Q': 1.0, 'R': 100.0, 'Np': 8}. Best is trial 0 with value: 1767.678039574866.\n",
      "[I 2025-05-15 11:17:10,828] Trial 22 finished with value: 1778.8716286728045 and parameters: {'Q': 9.0, 'R': 100.0, 'Np': 8}. Best is trial 0 with value: 1767.678039574866.\n",
      "[I 2025-05-15 11:17:13,943] Trial 23 finished with value: 1778.8722558278814 and parameters: {'Q': 15.0, 'R': 81.0, 'Np': 8}. Best is trial 0 with value: 1767.678039574866.\n",
      "[I 2025-05-15 11:17:16,765] Trial 24 finished with value: 1783.929432701199 and parameters: {'Q': 28.0, 'R': 1.0, 'Np': 8}. Best is trial 0 with value: 1767.678039574866.\n",
      "[I 2025-05-15 11:17:19,833] Trial 25 finished with value: 1778.871628495273 and parameters: {'Q': 11.0, 'R': 100.0, 'Np': 8}. Best is trial 0 with value: 1767.678039574866.\n",
      "[I 2025-05-15 11:17:22,727] Trial 26 finished with value: 1774.9272688720455 and parameters: {'Q': 2.0, 'R': 39.0, 'Np': 8}. Best is trial 0 with value: 1767.678039574866.\n",
      "[I 2025-05-15 11:17:25,576] Trial 27 finished with value: 1778.8811824373724 and parameters: {'Q': 14.0, 'R': 83.0, 'Np': 8}. Best is trial 0 with value: 1767.678039574866.\n",
      "[I 2025-05-15 11:17:28,532] Trial 28 finished with value: 1778.8716288523378 and parameters: {'Q': 25.0, 'R': 100.0, 'Np': 8}. Best is trial 0 with value: 1767.678039574866.\n",
      "[I 2025-05-15 11:17:30,370] Trial 29 finished with value: 1807.3382409812057 and parameters: {'Q': 46.0, 'R': 75.0, 'Np': 8}. Best is trial 0 with value: 1767.678039574866.\n",
      "[I 2025-05-15 11:17:31,669] Trial 30 finished with value: 1871.259629803452 and parameters: {'Q': 95.0, 'R': 41.0, 'Np': 8}. Best is trial 0 with value: 1767.678039574866.\n",
      "[I 2025-05-15 11:17:36,019] Trial 31 finished with value: 1767.2456444027362 and parameters: {'Q': 1.0, 'R': 90.0, 'Np': 8}. Best is trial 31 with value: 1767.2456444027362.\n",
      "[I 2025-05-15 11:17:38,742] Trial 32 finished with value: 1778.8716291294372 and parameters: {'Q': 7.0, 'R': 89.0, 'Np': 8}. Best is trial 31 with value: 1767.2456444027362.\n",
      "[I 2025-05-15 11:17:41,467] Trial 33 finished with value: 1778.8726137567417 and parameters: {'Q': 14.0, 'R': 90.0, 'Np': 8}. Best is trial 31 with value: 1767.2456444027362.\n",
      "[I 2025-05-15 11:17:44,695] Trial 34 finished with value: 1771.9146213215947 and parameters: {'Q': 1.0, 'R': 71.0, 'Np': 8}. Best is trial 31 with value: 1767.2456444027362.\n",
      "[I 2025-05-15 11:17:47,703] Trial 35 finished with value: 1778.8716284236943 and parameters: {'Q': 7.0, 'R': 90.0, 'Np': 8}. Best is trial 31 with value: 1767.2456444027362.\n",
      "[I 2025-05-15 11:17:50,677] Trial 36 finished with value: 1778.874274590798 and parameters: {'Q': 12.0, 'R': 53.0, 'Np': 8}. Best is trial 31 with value: 1767.2456444027362.\n",
      "[I 2025-05-15 11:17:53,647] Trial 37 finished with value: 1778.871972729543 and parameters: {'Q': 19.0, 'R': 59.0, 'Np': 8}. Best is trial 31 with value: 1767.2456444027362.\n",
      "[I 2025-05-15 11:17:55,157] Trial 38 finished with value: 1935.40592971878 and parameters: {'Q': 62.0, 'R': 71.0, 'Np': 8}. Best is trial 31 with value: 1767.2456444027362.\n",
      "[I 2025-05-15 11:17:58,792] Trial 39 finished with value: 1773.4475381520917 and parameters: {'Q': 29.0, 'R': 100.0, 'Np': 8}. Best is trial 31 with value: 1767.2456444027362.\n",
      "[I 2025-05-15 11:18:00,226] Trial 40 finished with value: 1811.6035759585566 and parameters: {'Q': 72.0, 'R': 100.0, 'Np': 8}. Best is trial 31 with value: 1767.2456444027362.\n",
      "[I 2025-05-15 11:18:03,113] Trial 41 finished with value: 1774.9272706576542 and parameters: {'Q': 4.0, 'R': 92.0, 'Np': 8}. Best is trial 31 with value: 1767.2456444027362.\n",
      "[I 2025-05-15 11:18:07,151] Trial 42 finished with value: 1767.396019259559 and parameters: {'Q': 1.0, 'R': 92.0, 'Np': 8}. Best is trial 31 with value: 1767.2456444027362.\n",
      "[I 2025-05-15 11:18:10,192] Trial 43 finished with value: 1774.9274491131046 and parameters: {'Q': 6.0, 'R': 79.0, 'Np': 8}. Best is trial 31 with value: 1767.2456444027362.\n",
      "[I 2025-05-15 11:18:11,600] Trial 44 finished with value: 1875.8494435708633 and parameters: {'Q': 84.0, 'R': 93.0, 'Np': 8}. Best is trial 31 with value: 1767.2456444027362.\n",
      "[I 2025-05-15 11:18:13,264] Trial 45 finished with value: 1841.1863450715703 and parameters: {'Q': 54.0, 'R': 77.0, 'Np': 8}. Best is trial 31 with value: 1767.2456444027362.\n",
      "[I 2025-05-15 11:18:16,566] Trial 46 finished with value: 1778.87163562615 and parameters: {'Q': 17.0, 'R': 85.0, 'Np': 8}. Best is trial 31 with value: 1767.2456444027362.\n",
      "[I 2025-05-15 11:18:19,265] Trial 47 finished with value: 1783.8700228906157 and parameters: {'Q': 9.0, 'R': 26.0, 'Np': 8}. Best is trial 31 with value: 1767.2456444027362.\n",
      "[I 2025-05-15 11:18:22,125] Trial 48 finished with value: 1774.927269792037 and parameters: {'Q': 5.0, 'R': 87.0, 'Np': 8}. Best is trial 31 with value: 1767.2456444027362.\n",
      "[I 2025-05-15 11:18:24,760] Trial 49 finished with value: 1783.8701518778078 and parameters: {'Q': 22.0, 'R': 48.0, 'Np': 8}. Best is trial 31 with value: 1767.2456444027362.\n"
     ]
    }
   ],
   "source": [
    "study = optuna.create_study(direction=\"minimize\")  # minimize MSE\n",
    "# Inject your known good trial\n",
    "study.enqueue_trial({\n",
    "    \"Q\": 3,\n",
    "    \"R\": 9970,\n",
    "    \"Np\": 8  # or whatever you're using\n",
    "})\n",
    "study.optimize(objective, n_trials=50, timeout=50000)  # try 50 configurations or stop after 10 mins"
   ]
  },
  {
   "cell_type": "code",
   "execution_count": 12,
   "id": "b843a334",
   "metadata": {},
   "outputs": [
    {
     "name": "stdout",
     "output_type": "stream",
     "text": [
      "Best trial:\n",
      "Q = 1.00\n",
      "R = 90.0000\n",
      "Np = 8\n",
      "MSE = -1767.2456\n"
     ]
    }
   ],
   "source": [
    "# Print the best solution\n",
    "print(\"Best trial:\")\n",
    "trial = study.best_trial\n",
    "print(f\"Q = {trial.params['Q']:.2f}\")\n",
    "print(f\"R = {trial.params['R']:.4f}\")\n",
    "print(f\"Np = {trial.params['Np']}\")\n",
    "print(f\"MSE = {-trial.value:.4f}\")\n"
   ]
  },
  {
   "cell_type": "code",
   "execution_count": 13,
   "id": "ddf3344f",
   "metadata": {},
   "outputs": [
    {
     "data": {
      "application/vnd.plotly.v1+json": {
       "config": {
        "plotlyServerURL": "https://plot.ly"
       },
       "data": [
        {
         "mode": "markers",
         "name": "Objective Value",
         "type": "scatter",
         "x": [
          0,
          1,
          2,
          3,
          4,
          5,
          6,
          7,
          8,
          9,
          10,
          11,
          12,
          13,
          14,
          15,
          16,
          17,
          18,
          19,
          20,
          21,
          22,
          23,
          24,
          25,
          26,
          27,
          28,
          29,
          30,
          31,
          32,
          33,
          34,
          35,
          36,
          37,
          38,
          39,
          40,
          41,
          42,
          43,
          44,
          45,
          46,
          47,
          48,
          49
         ],
         "y": [
          1767.678039574866,
          1857.4438436412822,
          1798.641177532258,
          1953.9800073224737,
          1923.5742463113431,
          2026.0630319152197,
          1783.8700469256562,
          1906.3561540161097,
          1803.988657962339,
          1822.5488272978134,
          1778.8716880471077,
          1768.3293367143426,
          1778.8716880471077,
          1775.1729143543846,
          1768.3293367143426,
          1778.8724549755104,
          1794.0426196463777,
          1778.871748878356,
          1768.3293367143426,
          1883.8898173503992,
          1877.914891217075,
          1768.3293367143426,
          1778.8716286728045,
          1778.8722558278814,
          1783.929432701199,
          1778.871628495273,
          1774.9272688720455,
          1778.8811824373724,
          1778.8716288523378,
          1807.3382409812057,
          1871.259629803452,
          1767.2456444027362,
          1778.8716291294372,
          1778.8726137567417,
          1771.9146213215947,
          1778.8716284236943,
          1778.874274590798,
          1778.871972729543,
          1935.40592971878,
          1773.4475381520917,
          1811.6035759585566,
          1774.9272706576542,
          1767.396019259559,
          1774.9274491131046,
          1875.8494435708633,
          1841.1863450715703,
          1778.87163562615,
          1783.8700228906157,
          1774.927269792037,
          1783.8701518778078
         ]
        },
        {
         "mode": "lines",
         "name": "Best Value",
         "type": "scatter",
         "x": [
          0,
          1,
          2,
          3,
          4,
          5,
          6,
          7,
          8,
          9,
          10,
          11,
          12,
          13,
          14,
          15,
          16,
          17,
          18,
          19,
          20,
          21,
          22,
          23,
          24,
          25,
          26,
          27,
          28,
          29,
          30,
          31,
          32,
          33,
          34,
          35,
          36,
          37,
          38,
          39,
          40,
          41,
          42,
          43,
          44,
          45,
          46,
          47,
          48,
          49
         ],
         "y": [
          1767.678039574866,
          1767.678039574866,
          1767.678039574866,
          1767.678039574866,
          1767.678039574866,
          1767.678039574866,
          1767.678039574866,
          1767.678039574866,
          1767.678039574866,
          1767.678039574866,
          1767.678039574866,
          1767.678039574866,
          1767.678039574866,
          1767.678039574866,
          1767.678039574866,
          1767.678039574866,
          1767.678039574866,
          1767.678039574866,
          1767.678039574866,
          1767.678039574866,
          1767.678039574866,
          1767.678039574866,
          1767.678039574866,
          1767.678039574866,
          1767.678039574866,
          1767.678039574866,
          1767.678039574866,
          1767.678039574866,
          1767.678039574866,
          1767.678039574866,
          1767.678039574866,
          1767.2456444027362,
          1767.2456444027362,
          1767.2456444027362,
          1767.2456444027362,
          1767.2456444027362,
          1767.2456444027362,
          1767.2456444027362,
          1767.2456444027362,
          1767.2456444027362,
          1767.2456444027362,
          1767.2456444027362,
          1767.2456444027362,
          1767.2456444027362,
          1767.2456444027362,
          1767.2456444027362,
          1767.2456444027362,
          1767.2456444027362,
          1767.2456444027362,
          1767.2456444027362
         ]
        },
        {
         "marker": {
          "color": "#cccccc"
         },
         "mode": "markers",
         "name": "Infeasible Trial",
         "showlegend": false,
         "type": "scatter",
         "x": [],
         "y": []
        }
       ],
       "layout": {
        "template": {
         "data": {
          "bar": [
           {
            "error_x": {
             "color": "#2a3f5f"
            },
            "error_y": {
             "color": "#2a3f5f"
            },
            "marker": {
             "line": {
              "color": "#E5ECF6",
              "width": 0.5
             },
             "pattern": {
              "fillmode": "overlay",
              "size": 10,
              "solidity": 0.2
             }
            },
            "type": "bar"
           }
          ],
          "barpolar": [
           {
            "marker": {
             "line": {
              "color": "#E5ECF6",
              "width": 0.5
             },
             "pattern": {
              "fillmode": "overlay",
              "size": 10,
              "solidity": 0.2
             }
            },
            "type": "barpolar"
           }
          ],
          "carpet": [
           {
            "aaxis": {
             "endlinecolor": "#2a3f5f",
             "gridcolor": "white",
             "linecolor": "white",
             "minorgridcolor": "white",
             "startlinecolor": "#2a3f5f"
            },
            "baxis": {
             "endlinecolor": "#2a3f5f",
             "gridcolor": "white",
             "linecolor": "white",
             "minorgridcolor": "white",
             "startlinecolor": "#2a3f5f"
            },
            "type": "carpet"
           }
          ],
          "choropleth": [
           {
            "colorbar": {
             "outlinewidth": 0,
             "ticks": ""
            },
            "type": "choropleth"
           }
          ],
          "contour": [
           {
            "colorbar": {
             "outlinewidth": 0,
             "ticks": ""
            },
            "colorscale": [
             [
              0,
              "#0d0887"
             ],
             [
              0.1111111111111111,
              "#46039f"
             ],
             [
              0.2222222222222222,
              "#7201a8"
             ],
             [
              0.3333333333333333,
              "#9c179e"
             ],
             [
              0.4444444444444444,
              "#bd3786"
             ],
             [
              0.5555555555555556,
              "#d8576b"
             ],
             [
              0.6666666666666666,
              "#ed7953"
             ],
             [
              0.7777777777777778,
              "#fb9f3a"
             ],
             [
              0.8888888888888888,
              "#fdca26"
             ],
             [
              1,
              "#f0f921"
             ]
            ],
            "type": "contour"
           }
          ],
          "contourcarpet": [
           {
            "colorbar": {
             "outlinewidth": 0,
             "ticks": ""
            },
            "type": "contourcarpet"
           }
          ],
          "heatmap": [
           {
            "colorbar": {
             "outlinewidth": 0,
             "ticks": ""
            },
            "colorscale": [
             [
              0,
              "#0d0887"
             ],
             [
              0.1111111111111111,
              "#46039f"
             ],
             [
              0.2222222222222222,
              "#7201a8"
             ],
             [
              0.3333333333333333,
              "#9c179e"
             ],
             [
              0.4444444444444444,
              "#bd3786"
             ],
             [
              0.5555555555555556,
              "#d8576b"
             ],
             [
              0.6666666666666666,
              "#ed7953"
             ],
             [
              0.7777777777777778,
              "#fb9f3a"
             ],
             [
              0.8888888888888888,
              "#fdca26"
             ],
             [
              1,
              "#f0f921"
             ]
            ],
            "type": "heatmap"
           }
          ],
          "histogram": [
           {
            "marker": {
             "pattern": {
              "fillmode": "overlay",
              "size": 10,
              "solidity": 0.2
             }
            },
            "type": "histogram"
           }
          ],
          "histogram2d": [
           {
            "colorbar": {
             "outlinewidth": 0,
             "ticks": ""
            },
            "colorscale": [
             [
              0,
              "#0d0887"
             ],
             [
              0.1111111111111111,
              "#46039f"
             ],
             [
              0.2222222222222222,
              "#7201a8"
             ],
             [
              0.3333333333333333,
              "#9c179e"
             ],
             [
              0.4444444444444444,
              "#bd3786"
             ],
             [
              0.5555555555555556,
              "#d8576b"
             ],
             [
              0.6666666666666666,
              "#ed7953"
             ],
             [
              0.7777777777777778,
              "#fb9f3a"
             ],
             [
              0.8888888888888888,
              "#fdca26"
             ],
             [
              1,
              "#f0f921"
             ]
            ],
            "type": "histogram2d"
           }
          ],
          "histogram2dcontour": [
           {
            "colorbar": {
             "outlinewidth": 0,
             "ticks": ""
            },
            "colorscale": [
             [
              0,
              "#0d0887"
             ],
             [
              0.1111111111111111,
              "#46039f"
             ],
             [
              0.2222222222222222,
              "#7201a8"
             ],
             [
              0.3333333333333333,
              "#9c179e"
             ],
             [
              0.4444444444444444,
              "#bd3786"
             ],
             [
              0.5555555555555556,
              "#d8576b"
             ],
             [
              0.6666666666666666,
              "#ed7953"
             ],
             [
              0.7777777777777778,
              "#fb9f3a"
             ],
             [
              0.8888888888888888,
              "#fdca26"
             ],
             [
              1,
              "#f0f921"
             ]
            ],
            "type": "histogram2dcontour"
           }
          ],
          "mesh3d": [
           {
            "colorbar": {
             "outlinewidth": 0,
             "ticks": ""
            },
            "type": "mesh3d"
           }
          ],
          "parcoords": [
           {
            "line": {
             "colorbar": {
              "outlinewidth": 0,
              "ticks": ""
             }
            },
            "type": "parcoords"
           }
          ],
          "pie": [
           {
            "automargin": true,
            "type": "pie"
           }
          ],
          "scatter": [
           {
            "fillpattern": {
             "fillmode": "overlay",
             "size": 10,
             "solidity": 0.2
            },
            "type": "scatter"
           }
          ],
          "scatter3d": [
           {
            "line": {
             "colorbar": {
              "outlinewidth": 0,
              "ticks": ""
             }
            },
            "marker": {
             "colorbar": {
              "outlinewidth": 0,
              "ticks": ""
             }
            },
            "type": "scatter3d"
           }
          ],
          "scattercarpet": [
           {
            "marker": {
             "colorbar": {
              "outlinewidth": 0,
              "ticks": ""
             }
            },
            "type": "scattercarpet"
           }
          ],
          "scattergeo": [
           {
            "marker": {
             "colorbar": {
              "outlinewidth": 0,
              "ticks": ""
             }
            },
            "type": "scattergeo"
           }
          ],
          "scattergl": [
           {
            "marker": {
             "colorbar": {
              "outlinewidth": 0,
              "ticks": ""
             }
            },
            "type": "scattergl"
           }
          ],
          "scattermap": [
           {
            "marker": {
             "colorbar": {
              "outlinewidth": 0,
              "ticks": ""
             }
            },
            "type": "scattermap"
           }
          ],
          "scattermapbox": [
           {
            "marker": {
             "colorbar": {
              "outlinewidth": 0,
              "ticks": ""
             }
            },
            "type": "scattermapbox"
           }
          ],
          "scatterpolar": [
           {
            "marker": {
             "colorbar": {
              "outlinewidth": 0,
              "ticks": ""
             }
            },
            "type": "scatterpolar"
           }
          ],
          "scatterpolargl": [
           {
            "marker": {
             "colorbar": {
              "outlinewidth": 0,
              "ticks": ""
             }
            },
            "type": "scatterpolargl"
           }
          ],
          "scatterternary": [
           {
            "marker": {
             "colorbar": {
              "outlinewidth": 0,
              "ticks": ""
             }
            },
            "type": "scatterternary"
           }
          ],
          "surface": [
           {
            "colorbar": {
             "outlinewidth": 0,
             "ticks": ""
            },
            "colorscale": [
             [
              0,
              "#0d0887"
             ],
             [
              0.1111111111111111,
              "#46039f"
             ],
             [
              0.2222222222222222,
              "#7201a8"
             ],
             [
              0.3333333333333333,
              "#9c179e"
             ],
             [
              0.4444444444444444,
              "#bd3786"
             ],
             [
              0.5555555555555556,
              "#d8576b"
             ],
             [
              0.6666666666666666,
              "#ed7953"
             ],
             [
              0.7777777777777778,
              "#fb9f3a"
             ],
             [
              0.8888888888888888,
              "#fdca26"
             ],
             [
              1,
              "#f0f921"
             ]
            ],
            "type": "surface"
           }
          ],
          "table": [
           {
            "cells": {
             "fill": {
              "color": "#EBF0F8"
             },
             "line": {
              "color": "white"
             }
            },
            "header": {
             "fill": {
              "color": "#C8D4E3"
             },
             "line": {
              "color": "white"
             }
            },
            "type": "table"
           }
          ]
         },
         "layout": {
          "annotationdefaults": {
           "arrowcolor": "#2a3f5f",
           "arrowhead": 0,
           "arrowwidth": 1
          },
          "autotypenumbers": "strict",
          "coloraxis": {
           "colorbar": {
            "outlinewidth": 0,
            "ticks": ""
           }
          },
          "colorscale": {
           "diverging": [
            [
             0,
             "#8e0152"
            ],
            [
             0.1,
             "#c51b7d"
            ],
            [
             0.2,
             "#de77ae"
            ],
            [
             0.3,
             "#f1b6da"
            ],
            [
             0.4,
             "#fde0ef"
            ],
            [
             0.5,
             "#f7f7f7"
            ],
            [
             0.6,
             "#e6f5d0"
            ],
            [
             0.7,
             "#b8e186"
            ],
            [
             0.8,
             "#7fbc41"
            ],
            [
             0.9,
             "#4d9221"
            ],
            [
             1,
             "#276419"
            ]
           ],
           "sequential": [
            [
             0,
             "#0d0887"
            ],
            [
             0.1111111111111111,
             "#46039f"
            ],
            [
             0.2222222222222222,
             "#7201a8"
            ],
            [
             0.3333333333333333,
             "#9c179e"
            ],
            [
             0.4444444444444444,
             "#bd3786"
            ],
            [
             0.5555555555555556,
             "#d8576b"
            ],
            [
             0.6666666666666666,
             "#ed7953"
            ],
            [
             0.7777777777777778,
             "#fb9f3a"
            ],
            [
             0.8888888888888888,
             "#fdca26"
            ],
            [
             1,
             "#f0f921"
            ]
           ],
           "sequentialminus": [
            [
             0,
             "#0d0887"
            ],
            [
             0.1111111111111111,
             "#46039f"
            ],
            [
             0.2222222222222222,
             "#7201a8"
            ],
            [
             0.3333333333333333,
             "#9c179e"
            ],
            [
             0.4444444444444444,
             "#bd3786"
            ],
            [
             0.5555555555555556,
             "#d8576b"
            ],
            [
             0.6666666666666666,
             "#ed7953"
            ],
            [
             0.7777777777777778,
             "#fb9f3a"
            ],
            [
             0.8888888888888888,
             "#fdca26"
            ],
            [
             1,
             "#f0f921"
            ]
           ]
          },
          "colorway": [
           "#636efa",
           "#EF553B",
           "#00cc96",
           "#ab63fa",
           "#FFA15A",
           "#19d3f3",
           "#FF6692",
           "#B6E880",
           "#FF97FF",
           "#FECB52"
          ],
          "font": {
           "color": "#2a3f5f"
          },
          "geo": {
           "bgcolor": "white",
           "lakecolor": "white",
           "landcolor": "#E5ECF6",
           "showlakes": true,
           "showland": true,
           "subunitcolor": "white"
          },
          "hoverlabel": {
           "align": "left"
          },
          "hovermode": "closest",
          "mapbox": {
           "style": "light"
          },
          "paper_bgcolor": "white",
          "plot_bgcolor": "#E5ECF6",
          "polar": {
           "angularaxis": {
            "gridcolor": "white",
            "linecolor": "white",
            "ticks": ""
           },
           "bgcolor": "#E5ECF6",
           "radialaxis": {
            "gridcolor": "white",
            "linecolor": "white",
            "ticks": ""
           }
          },
          "scene": {
           "xaxis": {
            "backgroundcolor": "#E5ECF6",
            "gridcolor": "white",
            "gridwidth": 2,
            "linecolor": "white",
            "showbackground": true,
            "ticks": "",
            "zerolinecolor": "white"
           },
           "yaxis": {
            "backgroundcolor": "#E5ECF6",
            "gridcolor": "white",
            "gridwidth": 2,
            "linecolor": "white",
            "showbackground": true,
            "ticks": "",
            "zerolinecolor": "white"
           },
           "zaxis": {
            "backgroundcolor": "#E5ECF6",
            "gridcolor": "white",
            "gridwidth": 2,
            "linecolor": "white",
            "showbackground": true,
            "ticks": "",
            "zerolinecolor": "white"
           }
          },
          "shapedefaults": {
           "line": {
            "color": "#2a3f5f"
           }
          },
          "ternary": {
           "aaxis": {
            "gridcolor": "white",
            "linecolor": "white",
            "ticks": ""
           },
           "baxis": {
            "gridcolor": "white",
            "linecolor": "white",
            "ticks": ""
           },
           "bgcolor": "#E5ECF6",
           "caxis": {
            "gridcolor": "white",
            "linecolor": "white",
            "ticks": ""
           }
          },
          "title": {
           "x": 0.05
          },
          "xaxis": {
           "automargin": true,
           "gridcolor": "white",
           "linecolor": "white",
           "ticks": "",
           "title": {
            "standoff": 15
           },
           "zerolinecolor": "white",
           "zerolinewidth": 2
          },
          "yaxis": {
           "automargin": true,
           "gridcolor": "white",
           "linecolor": "white",
           "ticks": "",
           "title": {
            "standoff": 15
           },
           "zerolinecolor": "white",
           "zerolinewidth": 2
          }
         }
        },
        "title": {
         "text": "Optimization History Plot"
        },
        "xaxis": {
         "title": {
          "text": "Trial"
         }
        },
        "yaxis": {
         "title": {
          "text": "Objective Value"
         }
        }
       }
      }
     },
     "metadata": {},
     "output_type": "display_data"
    },
    {
     "data": {
      "application/vnd.plotly.v1+json": {
       "config": {
        "plotlyServerURL": "https://plot.ly"
       },
       "data": [
        {
         "cliponaxis": false,
         "hovertemplate": [
          "Np (IntDistribution): 0.0<extra></extra>",
          "R (FloatDistribution): 0.17896096824489485<extra></extra>",
          "Q (FloatDistribution): 0.8210390317551052<extra></extra>"
         ],
         "name": "Objective Value",
         "orientation": "h",
         "text": [
          "<0.01",
          "0.18",
          "0.82"
         ],
         "textposition": "outside",
         "type": "bar",
         "x": [
          0,
          0.17896096824489485,
          0.8210390317551052
         ],
         "y": [
          "Np",
          "R",
          "Q"
         ]
        }
       ],
       "layout": {
        "template": {
         "data": {
          "bar": [
           {
            "error_x": {
             "color": "#2a3f5f"
            },
            "error_y": {
             "color": "#2a3f5f"
            },
            "marker": {
             "line": {
              "color": "#E5ECF6",
              "width": 0.5
             },
             "pattern": {
              "fillmode": "overlay",
              "size": 10,
              "solidity": 0.2
             }
            },
            "type": "bar"
           }
          ],
          "barpolar": [
           {
            "marker": {
             "line": {
              "color": "#E5ECF6",
              "width": 0.5
             },
             "pattern": {
              "fillmode": "overlay",
              "size": 10,
              "solidity": 0.2
             }
            },
            "type": "barpolar"
           }
          ],
          "carpet": [
           {
            "aaxis": {
             "endlinecolor": "#2a3f5f",
             "gridcolor": "white",
             "linecolor": "white",
             "minorgridcolor": "white",
             "startlinecolor": "#2a3f5f"
            },
            "baxis": {
             "endlinecolor": "#2a3f5f",
             "gridcolor": "white",
             "linecolor": "white",
             "minorgridcolor": "white",
             "startlinecolor": "#2a3f5f"
            },
            "type": "carpet"
           }
          ],
          "choropleth": [
           {
            "colorbar": {
             "outlinewidth": 0,
             "ticks": ""
            },
            "type": "choropleth"
           }
          ],
          "contour": [
           {
            "colorbar": {
             "outlinewidth": 0,
             "ticks": ""
            },
            "colorscale": [
             [
              0,
              "#0d0887"
             ],
             [
              0.1111111111111111,
              "#46039f"
             ],
             [
              0.2222222222222222,
              "#7201a8"
             ],
             [
              0.3333333333333333,
              "#9c179e"
             ],
             [
              0.4444444444444444,
              "#bd3786"
             ],
             [
              0.5555555555555556,
              "#d8576b"
             ],
             [
              0.6666666666666666,
              "#ed7953"
             ],
             [
              0.7777777777777778,
              "#fb9f3a"
             ],
             [
              0.8888888888888888,
              "#fdca26"
             ],
             [
              1,
              "#f0f921"
             ]
            ],
            "type": "contour"
           }
          ],
          "contourcarpet": [
           {
            "colorbar": {
             "outlinewidth": 0,
             "ticks": ""
            },
            "type": "contourcarpet"
           }
          ],
          "heatmap": [
           {
            "colorbar": {
             "outlinewidth": 0,
             "ticks": ""
            },
            "colorscale": [
             [
              0,
              "#0d0887"
             ],
             [
              0.1111111111111111,
              "#46039f"
             ],
             [
              0.2222222222222222,
              "#7201a8"
             ],
             [
              0.3333333333333333,
              "#9c179e"
             ],
             [
              0.4444444444444444,
              "#bd3786"
             ],
             [
              0.5555555555555556,
              "#d8576b"
             ],
             [
              0.6666666666666666,
              "#ed7953"
             ],
             [
              0.7777777777777778,
              "#fb9f3a"
             ],
             [
              0.8888888888888888,
              "#fdca26"
             ],
             [
              1,
              "#f0f921"
             ]
            ],
            "type": "heatmap"
           }
          ],
          "histogram": [
           {
            "marker": {
             "pattern": {
              "fillmode": "overlay",
              "size": 10,
              "solidity": 0.2
             }
            },
            "type": "histogram"
           }
          ],
          "histogram2d": [
           {
            "colorbar": {
             "outlinewidth": 0,
             "ticks": ""
            },
            "colorscale": [
             [
              0,
              "#0d0887"
             ],
             [
              0.1111111111111111,
              "#46039f"
             ],
             [
              0.2222222222222222,
              "#7201a8"
             ],
             [
              0.3333333333333333,
              "#9c179e"
             ],
             [
              0.4444444444444444,
              "#bd3786"
             ],
             [
              0.5555555555555556,
              "#d8576b"
             ],
             [
              0.6666666666666666,
              "#ed7953"
             ],
             [
              0.7777777777777778,
              "#fb9f3a"
             ],
             [
              0.8888888888888888,
              "#fdca26"
             ],
             [
              1,
              "#f0f921"
             ]
            ],
            "type": "histogram2d"
           }
          ],
          "histogram2dcontour": [
           {
            "colorbar": {
             "outlinewidth": 0,
             "ticks": ""
            },
            "colorscale": [
             [
              0,
              "#0d0887"
             ],
             [
              0.1111111111111111,
              "#46039f"
             ],
             [
              0.2222222222222222,
              "#7201a8"
             ],
             [
              0.3333333333333333,
              "#9c179e"
             ],
             [
              0.4444444444444444,
              "#bd3786"
             ],
             [
              0.5555555555555556,
              "#d8576b"
             ],
             [
              0.6666666666666666,
              "#ed7953"
             ],
             [
              0.7777777777777778,
              "#fb9f3a"
             ],
             [
              0.8888888888888888,
              "#fdca26"
             ],
             [
              1,
              "#f0f921"
             ]
            ],
            "type": "histogram2dcontour"
           }
          ],
          "mesh3d": [
           {
            "colorbar": {
             "outlinewidth": 0,
             "ticks": ""
            },
            "type": "mesh3d"
           }
          ],
          "parcoords": [
           {
            "line": {
             "colorbar": {
              "outlinewidth": 0,
              "ticks": ""
             }
            },
            "type": "parcoords"
           }
          ],
          "pie": [
           {
            "automargin": true,
            "type": "pie"
           }
          ],
          "scatter": [
           {
            "fillpattern": {
             "fillmode": "overlay",
             "size": 10,
             "solidity": 0.2
            },
            "type": "scatter"
           }
          ],
          "scatter3d": [
           {
            "line": {
             "colorbar": {
              "outlinewidth": 0,
              "ticks": ""
             }
            },
            "marker": {
             "colorbar": {
              "outlinewidth": 0,
              "ticks": ""
             }
            },
            "type": "scatter3d"
           }
          ],
          "scattercarpet": [
           {
            "marker": {
             "colorbar": {
              "outlinewidth": 0,
              "ticks": ""
             }
            },
            "type": "scattercarpet"
           }
          ],
          "scattergeo": [
           {
            "marker": {
             "colorbar": {
              "outlinewidth": 0,
              "ticks": ""
             }
            },
            "type": "scattergeo"
           }
          ],
          "scattergl": [
           {
            "marker": {
             "colorbar": {
              "outlinewidth": 0,
              "ticks": ""
             }
            },
            "type": "scattergl"
           }
          ],
          "scattermap": [
           {
            "marker": {
             "colorbar": {
              "outlinewidth": 0,
              "ticks": ""
             }
            },
            "type": "scattermap"
           }
          ],
          "scattermapbox": [
           {
            "marker": {
             "colorbar": {
              "outlinewidth": 0,
              "ticks": ""
             }
            },
            "type": "scattermapbox"
           }
          ],
          "scatterpolar": [
           {
            "marker": {
             "colorbar": {
              "outlinewidth": 0,
              "ticks": ""
             }
            },
            "type": "scatterpolar"
           }
          ],
          "scatterpolargl": [
           {
            "marker": {
             "colorbar": {
              "outlinewidth": 0,
              "ticks": ""
             }
            },
            "type": "scatterpolargl"
           }
          ],
          "scatterternary": [
           {
            "marker": {
             "colorbar": {
              "outlinewidth": 0,
              "ticks": ""
             }
            },
            "type": "scatterternary"
           }
          ],
          "surface": [
           {
            "colorbar": {
             "outlinewidth": 0,
             "ticks": ""
            },
            "colorscale": [
             [
              0,
              "#0d0887"
             ],
             [
              0.1111111111111111,
              "#46039f"
             ],
             [
              0.2222222222222222,
              "#7201a8"
             ],
             [
              0.3333333333333333,
              "#9c179e"
             ],
             [
              0.4444444444444444,
              "#bd3786"
             ],
             [
              0.5555555555555556,
              "#d8576b"
             ],
             [
              0.6666666666666666,
              "#ed7953"
             ],
             [
              0.7777777777777778,
              "#fb9f3a"
             ],
             [
              0.8888888888888888,
              "#fdca26"
             ],
             [
              1,
              "#f0f921"
             ]
            ],
            "type": "surface"
           }
          ],
          "table": [
           {
            "cells": {
             "fill": {
              "color": "#EBF0F8"
             },
             "line": {
              "color": "white"
             }
            },
            "header": {
             "fill": {
              "color": "#C8D4E3"
             },
             "line": {
              "color": "white"
             }
            },
            "type": "table"
           }
          ]
         },
         "layout": {
          "annotationdefaults": {
           "arrowcolor": "#2a3f5f",
           "arrowhead": 0,
           "arrowwidth": 1
          },
          "autotypenumbers": "strict",
          "coloraxis": {
           "colorbar": {
            "outlinewidth": 0,
            "ticks": ""
           }
          },
          "colorscale": {
           "diverging": [
            [
             0,
             "#8e0152"
            ],
            [
             0.1,
             "#c51b7d"
            ],
            [
             0.2,
             "#de77ae"
            ],
            [
             0.3,
             "#f1b6da"
            ],
            [
             0.4,
             "#fde0ef"
            ],
            [
             0.5,
             "#f7f7f7"
            ],
            [
             0.6,
             "#e6f5d0"
            ],
            [
             0.7,
             "#b8e186"
            ],
            [
             0.8,
             "#7fbc41"
            ],
            [
             0.9,
             "#4d9221"
            ],
            [
             1,
             "#276419"
            ]
           ],
           "sequential": [
            [
             0,
             "#0d0887"
            ],
            [
             0.1111111111111111,
             "#46039f"
            ],
            [
             0.2222222222222222,
             "#7201a8"
            ],
            [
             0.3333333333333333,
             "#9c179e"
            ],
            [
             0.4444444444444444,
             "#bd3786"
            ],
            [
             0.5555555555555556,
             "#d8576b"
            ],
            [
             0.6666666666666666,
             "#ed7953"
            ],
            [
             0.7777777777777778,
             "#fb9f3a"
            ],
            [
             0.8888888888888888,
             "#fdca26"
            ],
            [
             1,
             "#f0f921"
            ]
           ],
           "sequentialminus": [
            [
             0,
             "#0d0887"
            ],
            [
             0.1111111111111111,
             "#46039f"
            ],
            [
             0.2222222222222222,
             "#7201a8"
            ],
            [
             0.3333333333333333,
             "#9c179e"
            ],
            [
             0.4444444444444444,
             "#bd3786"
            ],
            [
             0.5555555555555556,
             "#d8576b"
            ],
            [
             0.6666666666666666,
             "#ed7953"
            ],
            [
             0.7777777777777778,
             "#fb9f3a"
            ],
            [
             0.8888888888888888,
             "#fdca26"
            ],
            [
             1,
             "#f0f921"
            ]
           ]
          },
          "colorway": [
           "#636efa",
           "#EF553B",
           "#00cc96",
           "#ab63fa",
           "#FFA15A",
           "#19d3f3",
           "#FF6692",
           "#B6E880",
           "#FF97FF",
           "#FECB52"
          ],
          "font": {
           "color": "#2a3f5f"
          },
          "geo": {
           "bgcolor": "white",
           "lakecolor": "white",
           "landcolor": "#E5ECF6",
           "showlakes": true,
           "showland": true,
           "subunitcolor": "white"
          },
          "hoverlabel": {
           "align": "left"
          },
          "hovermode": "closest",
          "mapbox": {
           "style": "light"
          },
          "paper_bgcolor": "white",
          "plot_bgcolor": "#E5ECF6",
          "polar": {
           "angularaxis": {
            "gridcolor": "white",
            "linecolor": "white",
            "ticks": ""
           },
           "bgcolor": "#E5ECF6",
           "radialaxis": {
            "gridcolor": "white",
            "linecolor": "white",
            "ticks": ""
           }
          },
          "scene": {
           "xaxis": {
            "backgroundcolor": "#E5ECF6",
            "gridcolor": "white",
            "gridwidth": 2,
            "linecolor": "white",
            "showbackground": true,
            "ticks": "",
            "zerolinecolor": "white"
           },
           "yaxis": {
            "backgroundcolor": "#E5ECF6",
            "gridcolor": "white",
            "gridwidth": 2,
            "linecolor": "white",
            "showbackground": true,
            "ticks": "",
            "zerolinecolor": "white"
           },
           "zaxis": {
            "backgroundcolor": "#E5ECF6",
            "gridcolor": "white",
            "gridwidth": 2,
            "linecolor": "white",
            "showbackground": true,
            "ticks": "",
            "zerolinecolor": "white"
           }
          },
          "shapedefaults": {
           "line": {
            "color": "#2a3f5f"
           }
          },
          "ternary": {
           "aaxis": {
            "gridcolor": "white",
            "linecolor": "white",
            "ticks": ""
           },
           "baxis": {
            "gridcolor": "white",
            "linecolor": "white",
            "ticks": ""
           },
           "bgcolor": "#E5ECF6",
           "caxis": {
            "gridcolor": "white",
            "linecolor": "white",
            "ticks": ""
           }
          },
          "title": {
           "x": 0.05
          },
          "xaxis": {
           "automargin": true,
           "gridcolor": "white",
           "linecolor": "white",
           "ticks": "",
           "title": {
            "standoff": 15
           },
           "zerolinecolor": "white",
           "zerolinewidth": 2
          },
          "yaxis": {
           "automargin": true,
           "gridcolor": "white",
           "linecolor": "white",
           "ticks": "",
           "title": {
            "standoff": 15
           },
           "zerolinecolor": "white",
           "zerolinewidth": 2
          }
         }
        },
        "title": {
         "text": "Hyperparameter Importances"
        },
        "xaxis": {
         "title": {
          "text": "Hyperparameter Importance"
         }
        },
        "yaxis": {
         "title": {
          "text": "Hyperparameter"
         }
        }
       }
      }
     },
     "metadata": {},
     "output_type": "display_data"
    }
   ],
   "source": [
    "vis.plot_optimization_history(study).show()\n",
    "vis.plot_param_importances(study).show()"
   ]
  },
  {
   "cell_type": "code",
   "execution_count": null,
   "id": "e67f4df7",
   "metadata": {},
   "outputs": [],
   "source": []
  },
  {
   "cell_type": "code",
   "execution_count": null,
   "id": "7d109d29",
   "metadata": {},
   "outputs": [],
   "source": []
  }
 ],
 "metadata": {
  "kernelspec": {
   "display_name": "Pyhton (VS_ENV)",
   "language": "python",
   "name": "vs_env"
  },
  "language_info": {
   "codemirror_mode": {
    "name": "ipython",
    "version": 3
   },
   "file_extension": ".py",
   "mimetype": "text/x-python",
   "name": "python",
   "nbconvert_exporter": "python",
   "pygments_lexer": "ipython3",
   "version": "3.10.16"
  }
 },
 "nbformat": 4,
 "nbformat_minor": 5
}
