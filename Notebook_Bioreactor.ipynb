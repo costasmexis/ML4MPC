{
 "cells": [
  {
   "cell_type": "code",
   "execution_count": 1,
   "metadata": {},
   "outputs": [],
   "source": [
    "import matplotlib.pyplot as plt\n",
    "import numpy as np\n",
    "from scipy.integrate import solve_ivp\n",
    "from scipy.optimize import minimize\n",
    "import pandas as pd"
   ]
  },
  {
   "cell_type": "code",
   "execution_count": null,
   "metadata": {},
   "outputs": [],
   "source": [
    "def assumed_model(t, y, F):\n",
    "    \"\"\"Controller's simplified model\"\"\"\n",
    "    X, S, V = y\n",
    "    S = np.maximum(S, 0)  # Prevent negative substrate\n",
    "    \n",
    "    # Simplified growth model (no inhibition/decay)\n",
    "    mu = mu_max * S / (Ks + S)\n",
    "    dX_dt = mu * X - (F/V) * X\n",
    "    dS_dt = -(1/Yxs) * mu * X + (F/V)*(Sin - S)\n",
    "    dV_dt = F\n",
    "    \n",
    "    return np.array([dX_dt, dS_dt, dV_dt])\n",
    "\n",
    "def actual_model(t, y, F):\n",
    "    \"\"\"Real system dynamics\"\"\"\n",
    "    X, S, V = y\n",
    "    S = max(S,0)  # Prevent negative substrate \n",
    "    # True growth model with inhibition and decay\n",
    "    mu = mu_max * S / (Ks + S + S**2/K_I)\n",
    "    dX_dt = mu * X - (F/V) * X - K_D * X\n",
    "    dS_dt = -(1/Yxs) * mu * X + (F/V)*(Sin - S)\n",
    "    dV_dt = F\n",
    "    \n",
    "    return np.array([dX_dt, dS_dt, dV_dt])"
   ]
  }
 ],
 "metadata": {
  "kernelspec": {
   "display_name": ".kostas",
   "language": "python",
   "name": "python3"
  },
  "language_info": {
   "codemirror_mode": {
    "name": "ipython",
    "version": 3
   },
   "file_extension": ".py",
   "mimetype": "text/x-python",
   "name": "python",
   "nbconvert_exporter": "python",
   "pygments_lexer": "ipython3",
   "version": "3.11.10"
  }
 },
 "nbformat": 4,
 "nbformat_minor": 2
}
