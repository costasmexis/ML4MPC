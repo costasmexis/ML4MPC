{
 "cells": [
  {
   "cell_type": "markdown",
   "metadata": {},
   "source": [
    "Training a Physics-Informed Neural Network for control of dynamic system.\n",
    "\n",
    "Use case: _Fed-Batch bioreactor with no product formation_"
   ]
  },
  {
   "cell_type": "code",
   "execution_count": null,
   "metadata": {},
   "outputs": [],
   "source": [
    "import copy\n",
    "import os\n",
    "from typing import Union\n",
    "\n",
    "import matplotlib.pyplot as plt\n",
    "import numpy as np\n",
    "import pandas as pd\n",
    "import torch\n",
    "import torch.nn as nn\n",
    "from scipy.integrate import solve_ivp\n",
    "from scipy.interpolate import interp1d\n",
    "from scipy.optimize import minimize\n",
    "from scipy.stats import qmc\n",
    "from tqdm import tqdm\n",
    "\n",
    "DEVICE = torch.device(\"cuda\" if torch.cuda.is_available() else \"cpu\")\n",
    "\n",
    "#################################################################   \n",
    "####################Physics-Informed Neural Network #############\n",
    "NUM_EPOCHS = 100000\n",
    "LEARNING_RATE = 1e-4\n",
    "NUM_COLLOCATION = 10000\n",
    "PATIENCE = 1000\n",
    "THRESHOLD = 1e-3\n",
    "EARLY_STOPPING_EPOCH = 50000\n",
    "NUM_SAMPLES = 3000\n",
    "\n",
    "T_START = 0.0\n",
    "T_END = 5.0\n",
    "dt = 0.1\n",
    "\n",
    "X_MIN = 3.0\n",
    "X_MAX = 30.0\n",
    "S_MIN = 0.01\n",
    "S_MAX = 2.0\n",
    "V_MIN = 1.0\n",
    "V_MAX = 3.0\n",
    "F_MIN = 0.0\n",
    "F_MAX = 0.1\n",
    "\n",
    "# --- Model Parameters ---\n",
    "# MU_MAX = 0.86980    # 1/h\n",
    "# K_S = 0.000123762    # g/l\n",
    "# Y_XS = 0.435749      # g/g\n",
    "S_F = 286           # g/l\n",
    "\n",
    "# PINN estimated kinetic parameters\n",
    "MU_MAX = 0.8308\n",
    "K_S    = 0.1004\n",
    "Y_XS   = 0.3684\n",
    "\n",
    "# Initial Conditions\n",
    "X_0, S_0, V_0 = 5, 0.013, 1.7  # Biomass, Substrate, Volume\n",
    "\n",
    "# ODE solver parameters\n",
    "ODE_SOLVER = 'LSODA'"
   ]
  },
  {
   "cell_type": "code",
   "execution_count": null,
   "metadata": {},
   "outputs": [],
   "source": [
    "def numpy_to_tensor(array, requires_grad=False):\n",
    "    return torch.tensor(array, requires_grad=requires_grad, dtype=torch.float32).to(DEVICE).reshape(-1, 1)\n",
    "\n",
    "def grad(outputs, inputs):\n",
    "    return torch.autograd.grad(outputs.sum(), inputs, create_graph=True)[0]\n",
    "\n",
    "class PINN(nn.Module):\n",
    "    def __init__(self, input_dim: int, output_dim: int):\n",
    "        super().__init__()\n",
    "        self.input = nn.Linear(input_dim, 64)\n",
    "        self.hidden1 = nn.Linear(64, 1024)\n",
    "        self.hidden  = nn.Linear(1024, 1024)\n",
    "        self.hidden2 = nn.Linear(1024, 64)\n",
    "        self.output = nn.Linear(64, output_dim)\n",
    "        \n",
    "    def forward(self, x):\n",
    "        x = torch.tanh(self.input(x))\n",
    "        x = torch.tanh(self.hidden1(x))\n",
    "        x = torch.tanh(self.hidden(x))\n",
    "        x = torch.tanh(self.hidden2(x))\n",
    "        x = self.output(x)\n",
    "        return x"
   ]
  },
  {
   "cell_type": "code",
   "execution_count": 23,
   "metadata": {},
   "outputs": [],
   "source": [
    "def generate_dataset(num_samples: int = NUM_SAMPLES, sampling_method: str = 'lhs') -> tuple:\n",
    "    \"\"\"Generate dataset of random multiple initial conditions and control actions\"\"\"\n",
    "    df = pd.DataFrame(columns=['t', 'X', 'S', 'V', 'F'])\n",
    "    if sampling_method == 'uniform':\n",
    "        df['X'] = np.random.uniform(X_MIN, X_MAX, num_samples)\n",
    "        df['S'] = np.random.uniform(S_MIN, S_MAX, num_samples)\n",
    "        df['V'] = np.random.uniform(V_MIN, V_MAX, num_samples)\n",
    "        df['F'] = np.random.uniform(F_MIN, F_MAX, num_samples)\n",
    "        df['t'] = 0.0 # initial time (always 0)\n",
    "    elif sampling_method == 'lhs':\n",
    "        sampler = qmc.LatinHypercube(d=4)\n",
    "        lhs_samples = sampler.random(n=num_samples)\n",
    "        scaled_samples = qmc.scale(lhs_samples, [X_MIN, S_MIN, V_MIN, F_MIN], [X_MAX, S_MAX, V_MAX, F_MAX])\n",
    "        df = pd.DataFrame(scaled_samples, columns=['X', 'S', 'V', 'F'])\n",
    "        df['t'] = 0.0\n",
    "        \n",
    "    t_train = numpy_to_tensor(df['t'].values, requires_grad=True)\n",
    "    X_train = numpy_to_tensor(df['X'].values)\n",
    "    S_train = numpy_to_tensor(df['S'].values)\n",
    "    V_train = numpy_to_tensor(df['V'].values)\n",
    "    F_train = numpy_to_tensor(df['F'].values)\n",
    "    \n",
    "    in_train = torch.cat([t_train, X_train, S_train, V_train, F_train], dim=1)\n",
    "    out_train = torch.cat([X_train, S_train, V_train], dim=1)\n",
    "    \n",
    "    return in_train, out_train\n",
    "\n",
    "def loss_fn(net: nn.Module, sampling_method: str = 'lhs') -> torch.Tensor:\n",
    "    if sampling_method == 'uniform':\n",
    "        t_col = numpy_to_tensor(np.random.uniform(T_START, dt, NUM_COLLOCATION), requires_grad=True)\n",
    "        X0_col = numpy_to_tensor(np.random.uniform(X_MIN, X_MAX, NUM_COLLOCATION))\n",
    "        S0_col = numpy_to_tensor(np.random.uniform(S_MIN, S_MAX, NUM_COLLOCATION))\n",
    "        V0_col = numpy_to_tensor(np.random.uniform(V_MIN, V_MAX, NUM_COLLOCATION))\n",
    "        F_col  = numpy_to_tensor(np.random.uniform(F_MIN, F_MAX, NUM_COLLOCATION))\n",
    "    elif sampling_method == 'lhs':\n",
    "        sampler = qmc.LatinHypercube(d=5)\n",
    "        lhs_samples = sampler.random(n=NUM_COLLOCATION)\n",
    "        scaled_samples = qmc.scale(lhs_samples, [T_START, X_MIN, S_MIN, V_MIN, F_MIN], [dt, X_MAX, S_MAX, V_MAX, F_MAX])\n",
    "        t_col = numpy_to_tensor(scaled_samples[:, 0], requires_grad=True)\n",
    "        X0_col = numpy_to_tensor(scaled_samples[:, 1])\n",
    "        S0_col = numpy_to_tensor(scaled_samples[:, 2])\n",
    "        V0_col = numpy_to_tensor(scaled_samples[:, 3])\n",
    "        F_col  = numpy_to_tensor(scaled_samples[:, 4])\n",
    "    \n",
    "    u_col = torch.cat([t_col, X0_col, S0_col, V0_col, F_col], dim=1)\n",
    "    preds = net.forward(u_col)\n",
    "\n",
    "    X_pred = preds[:, 0].view(-1, 1)\n",
    "    S_pred = preds[:, 1].view(-1, 1)\n",
    "    V_pred = preds[:, 2].view(-1, 1)\n",
    "    # V_pred = V0_col.view(-1, 1)  # Use the initial volume for the prediction\n",
    "\n",
    "    dXdt_pred = grad(X_pred, t_col)\n",
    "    dSdt_pred = grad(S_pred, t_col) \n",
    "    dVdt_pred = grad(V_pred, t_col) # not used\n",
    "\n",
    "    mu = MU_MAX * S_pred / (K_S + S_pred)\n",
    "\n",
    "    # residuals\n",
    "    rhs_X = mu * X_pred - (F_col / V_pred) * X_pred\n",
    "    rhs_S = - (mu * X_pred) / Y_XS + (F_col / V_pred) * (S_F - S_pred)\n",
    "    rhs_V = F_col\n",
    "\n",
    "    error_dXdt = dXdt_pred - rhs_X\n",
    "    error_dSdt = dSdt_pred - rhs_S\n",
    "    error_dVdt = dVdt_pred - rhs_V\n",
    "\n",
    "    # average residual squared loss\n",
    "    w_X, w_S, w_V = 0.8, 0.2, 0.0\n",
    "    loss_ode = torch.mean(error_dXdt**2) * w_X + \\\n",
    "               torch.mean(error_dSdt**2) * w_S + \\\n",
    "               torch.mean(error_dVdt**2) * w_V\n",
    "\n",
    "    return loss_ode\n"
   ]
  },
  {
   "cell_type": "code",
   "execution_count": 24,
   "metadata": {},
   "outputs": [
    {
     "name": "stdout",
     "output_type": "stream",
     "text": [
      "Input shape: torch.Size([3000, 5])\n",
      "Output shape: torch.Size([3000, 3])\n"
     ]
    }
   ],
   "source": [
    "in_train, out_train = generate_dataset()\n",
    "\n",
    "print(f'Input shape: {in_train.shape}')\n",
    "print(f'Output shape: {out_train.shape}')"
   ]
  },
  {
   "cell_type": "code",
   "execution_count": 25,
   "metadata": {},
   "outputs": [
    {
     "name": "stderr",
     "output_type": "stream",
     "text": [
      "  0%|          | 7/100000 [00:00<25:07, 66.33it/s]"
     ]
    },
    {
     "name": "stdout",
     "output_type": "stream",
     "text": [
      "Epoch 0: Loss = 5675368.0000, Data Loss = 229.4039, ODE Loss = 5675138.5000\n"
     ]
    },
    {
     "name": "stderr",
     "output_type": "stream",
     "text": [
      "  1%|          | 1011/100000 [00:12<21:38, 76.26it/s]"
     ]
    },
    {
     "name": "stdout",
     "output_type": "stream",
     "text": [
      "Epoch 1000: Loss = 407.2143, Data Loss = 206.8342, ODE Loss = 200.3801\n"
     ]
    },
    {
     "name": "stderr",
     "output_type": "stream",
     "text": [
      "  2%|▏         | 2014/100000 [00:25<20:46, 78.60it/s]"
     ]
    },
    {
     "name": "stdout",
     "output_type": "stream",
     "text": [
      "Epoch 2000: Loss = 370.2759, Data Loss = 190.6107, ODE Loss = 179.6652\n"
     ]
    },
    {
     "name": "stderr",
     "output_type": "stream",
     "text": [
      "  3%|▎         | 3012/100000 [00:38<20:25, 79.14it/s]"
     ]
    },
    {
     "name": "stdout",
     "output_type": "stream",
     "text": [
      "Epoch 3000: Loss = 352.9498, Data Loss = 178.5641, ODE Loss = 174.3857\n"
     ]
    },
    {
     "name": "stderr",
     "output_type": "stream",
     "text": [
      "  4%|▍         | 4011/100000 [00:50<17:56, 89.20it/s]"
     ]
    },
    {
     "name": "stdout",
     "output_type": "stream",
     "text": [
      "Epoch 4000: Loss = 336.2300, Data Loss = 166.4191, ODE Loss = 169.8110\n"
     ]
    },
    {
     "name": "stderr",
     "output_type": "stream",
     "text": [
      "  5%|▌         | 5012/100000 [01:03<18:30, 85.56it/s]"
     ]
    },
    {
     "name": "stdout",
     "output_type": "stream",
     "text": [
      "Epoch 5000: Loss = 324.1716, Data Loss = 157.3165, ODE Loss = 166.8550\n"
     ]
    },
    {
     "name": "stderr",
     "output_type": "stream",
     "text": [
      "  6%|▌         | 6010/100000 [01:16<20:46, 75.38it/s]"
     ]
    },
    {
     "name": "stdout",
     "output_type": "stream",
     "text": [
      "Epoch 6000: Loss = 313.4555, Data Loss = 148.2831, ODE Loss = 165.1724\n"
     ]
    },
    {
     "name": "stderr",
     "output_type": "stream",
     "text": [
      "  7%|▋         | 7011/100000 [01:29<20:23, 75.99it/s]"
     ]
    },
    {
     "name": "stdout",
     "output_type": "stream",
     "text": [
      "Epoch 7000: Loss = 305.5738, Data Loss = 141.6022, ODE Loss = 163.9716\n"
     ]
    },
    {
     "name": "stderr",
     "output_type": "stream",
     "text": [
      "  8%|▊         | 8014/100000 [01:42<19:50, 77.24it/s]"
     ]
    },
    {
     "name": "stdout",
     "output_type": "stream",
     "text": [
      "Epoch 8000: Loss = 297.7894, Data Loss = 135.0314, ODE Loss = 162.7580\n"
     ]
    },
    {
     "name": "stderr",
     "output_type": "stream",
     "text": [
      "  9%|▉         | 9010/100000 [01:55<18:45, 80.85it/s]"
     ]
    },
    {
     "name": "stdout",
     "output_type": "stream",
     "text": [
      "Epoch 9000: Loss = 291.7191, Data Loss = 130.1785, ODE Loss = 161.5407\n"
     ]
    },
    {
     "name": "stderr",
     "output_type": "stream",
     "text": [
      " 10%|█         | 10013/100000 [02:08<19:24, 77.26it/s]"
     ]
    },
    {
     "name": "stdout",
     "output_type": "stream",
     "text": [
      "Epoch 10000: Loss = 285.6036, Data Loss = 125.3708, ODE Loss = 160.2328\n"
     ]
    },
    {
     "name": "stderr",
     "output_type": "stream",
     "text": [
      " 11%|█         | 11014/100000 [02:21<19:20, 76.66it/s]"
     ]
    },
    {
     "name": "stdout",
     "output_type": "stream",
     "text": [
      "Epoch 11000: Loss = 280.9963, Data Loss = 121.7670, ODE Loss = 159.2292\n"
     ]
    },
    {
     "name": "stderr",
     "output_type": "stream",
     "text": [
      " 12%|█▏        | 12011/100000 [02:34<18:39, 78.57it/s]"
     ]
    },
    {
     "name": "stdout",
     "output_type": "stream",
     "text": [
      "Epoch 12000: Loss = 276.2583, Data Loss = 118.1101, ODE Loss = 158.1482\n"
     ]
    },
    {
     "name": "stderr",
     "output_type": "stream",
     "text": [
      " 13%|█▎        | 13017/100000 [02:47<17:04, 84.89it/s]"
     ]
    },
    {
     "name": "stdout",
     "output_type": "stream",
     "text": [
      "Epoch 13000: Loss = 272.2055, Data Loss = 115.2765, ODE Loss = 156.9290\n"
     ]
    },
    {
     "name": "stderr",
     "output_type": "stream",
     "text": [
      " 14%|█▍        | 14016/100000 [03:00<18:12, 78.72it/s]"
     ]
    },
    {
     "name": "stdout",
     "output_type": "stream",
     "text": [
      "Epoch 14000: Loss = 267.4863, Data Loss = 112.2701, ODE Loss = 155.2162\n"
     ]
    },
    {
     "name": "stderr",
     "output_type": "stream",
     "text": [
      " 15%|█▌        | 15008/100000 [03:13<18:41, 75.76it/s]"
     ]
    },
    {
     "name": "stdout",
     "output_type": "stream",
     "text": [
      "Epoch 15000: Loss = 263.3155, Data Loss = 109.8199, ODE Loss = 153.4956\n"
     ]
    },
    {
     "name": "stderr",
     "output_type": "stream",
     "text": [
      " 16%|█▌        | 16013/100000 [03:26<18:38, 75.09it/s]"
     ]
    },
    {
     "name": "stdout",
     "output_type": "stream",
     "text": [
      "Epoch 16000: Loss = 257.5087, Data Loss = 107.0868, ODE Loss = 150.4220\n"
     ]
    },
    {
     "name": "stderr",
     "output_type": "stream",
     "text": [
      " 17%|█▋        | 17015/100000 [03:39<18:05, 76.47it/s]"
     ]
    },
    {
     "name": "stdout",
     "output_type": "stream",
     "text": [
      "Epoch 17000: Loss = 251.8397, Data Loss = 104.7572, ODE Loss = 147.0825\n"
     ]
    },
    {
     "name": "stderr",
     "output_type": "stream",
     "text": [
      " 18%|█▊        | 18010/100000 [03:52<18:10, 75.19it/s]"
     ]
    },
    {
     "name": "stdout",
     "output_type": "stream",
     "text": [
      "Epoch 18000: Loss = 244.9109, Data Loss = 102.0484, ODE Loss = 142.8625\n"
     ]
    },
    {
     "name": "stderr",
     "output_type": "stream",
     "text": [
      " 19%|█▉        | 19011/100000 [04:05<18:02, 74.84it/s]"
     ]
    },
    {
     "name": "stdout",
     "output_type": "stream",
     "text": [
      "Epoch 19000: Loss = 237.5276, Data Loss = 99.5931, ODE Loss = 137.9344\n"
     ]
    },
    {
     "name": "stderr",
     "output_type": "stream",
     "text": [
      " 20%|██        | 20014/100000 [04:18<17:37, 75.64it/s]"
     ]
    },
    {
     "name": "stdout",
     "output_type": "stream",
     "text": [
      "Epoch 20000: Loss = 226.4754, Data Loss = 96.5002, ODE Loss = 129.9752\n"
     ]
    },
    {
     "name": "stderr",
     "output_type": "stream",
     "text": [
      " 21%|██        | 21011/100000 [04:31<16:47, 78.39it/s]"
     ]
    },
    {
     "name": "stdout",
     "output_type": "stream",
     "text": [
      "Epoch 21000: Loss = 215.7364, Data Loss = 93.4576, ODE Loss = 122.2788\n"
     ]
    },
    {
     "name": "stderr",
     "output_type": "stream",
     "text": [
      " 22%|██▏       | 22012/100000 [04:44<17:23, 74.71it/s]"
     ]
    },
    {
     "name": "stdout",
     "output_type": "stream",
     "text": [
      "Epoch 22000: Loss = 201.7235, Data Loss = 89.3507, ODE Loss = 112.3728\n"
     ]
    },
    {
     "name": "stderr",
     "output_type": "stream",
     "text": [
      " 23%|██▎       | 23009/100000 [04:57<17:48, 72.07it/s]"
     ]
    },
    {
     "name": "stdout",
     "output_type": "stream",
     "text": [
      "Epoch 23000: Loss = 187.4481, Data Loss = 85.1233, ODE Loss = 102.3248\n"
     ]
    },
    {
     "name": "stderr",
     "output_type": "stream",
     "text": [
      " 24%|██▍       | 24009/100000 [05:11<16:16, 77.79it/s]"
     ]
    },
    {
     "name": "stdout",
     "output_type": "stream",
     "text": [
      "Epoch 24000: Loss = 169.1682, Data Loss = 79.3373, ODE Loss = 89.8309\n"
     ]
    },
    {
     "name": "stderr",
     "output_type": "stream",
     "text": [
      " 25%|██▌       | 25013/100000 [05:23<16:33, 75.51it/s]"
     ]
    },
    {
     "name": "stdout",
     "output_type": "stream",
     "text": [
      "Epoch 25000: Loss = 152.3898, Data Loss = 73.4885, ODE Loss = 78.9013\n"
     ]
    },
    {
     "name": "stderr",
     "output_type": "stream",
     "text": [
      " 26%|██▌       | 26015/100000 [05:37<16:01, 76.97it/s]"
     ]
    },
    {
     "name": "stdout",
     "output_type": "stream",
     "text": [
      "Epoch 26000: Loss = 132.4346, Data Loss = 65.8849, ODE Loss = 66.5497\n"
     ]
    },
    {
     "name": "stderr",
     "output_type": "stream",
     "text": [
      " 27%|██▋       | 27015/100000 [05:50<15:55, 76.42it/s]"
     ]
    },
    {
     "name": "stdout",
     "output_type": "stream",
     "text": [
      "Epoch 27000: Loss = 115.3925, Data Loss = 58.8173, ODE Loss = 56.5752\n"
     ]
    },
    {
     "name": "stderr",
     "output_type": "stream",
     "text": [
      " 28%|██▊       | 28011/100000 [06:03<16:21, 73.38it/s]"
     ]
    },
    {
     "name": "stdout",
     "output_type": "stream",
     "text": [
      "Epoch 28000: Loss = 97.1686, Data Loss = 50.6862, ODE Loss = 46.4823\n"
     ]
    },
    {
     "name": "stderr",
     "output_type": "stream",
     "text": [
      " 29%|██▉       | 29013/100000 [06:16<15:53, 74.43it/s]"
     ]
    },
    {
     "name": "stdout",
     "output_type": "stream",
     "text": [
      "Epoch 29000: Loss = 83.0949, Data Loss = 44.2756, ODE Loss = 38.8193\n"
     ]
    },
    {
     "name": "stderr",
     "output_type": "stream",
     "text": [
      " 30%|███       | 30014/100000 [06:30<15:25, 75.61it/s]"
     ]
    },
    {
     "name": "stdout",
     "output_type": "stream",
     "text": [
      "Epoch 30000: Loss = 69.9186, Data Loss = 38.3420, ODE Loss = 31.5767\n"
     ]
    },
    {
     "name": "stderr",
     "output_type": "stream",
     "text": [
      " 31%|███       | 31015/100000 [06:43<14:38, 78.57it/s]"
     ]
    },
    {
     "name": "stdout",
     "output_type": "stream",
     "text": [
      "Epoch 31000: Loss = 61.2774, Data Loss = 34.8121, ODE Loss = 26.4653\n"
     ]
    },
    {
     "name": "stderr",
     "output_type": "stream",
     "text": [
      " 32%|███▏      | 32010/100000 [06:56<14:34, 77.71it/s]"
     ]
    },
    {
     "name": "stdout",
     "output_type": "stream",
     "text": [
      "Epoch 32000: Loss = 54.2379, Data Loss = 32.4761, ODE Loss = 21.7618\n"
     ]
    },
    {
     "name": "stderr",
     "output_type": "stream",
     "text": [
      " 33%|███▎      | 33012/100000 [07:09<14:17, 78.10it/s]"
     ]
    },
    {
     "name": "stdout",
     "output_type": "stream",
     "text": [
      "Epoch 33000: Loss = 50.0918, Data Loss = 31.4233, ODE Loss = 18.6685\n"
     ]
    },
    {
     "name": "stderr",
     "output_type": "stream",
     "text": [
      " 34%|███▍      | 34009/100000 [07:22<14:07, 77.86it/s]"
     ]
    },
    {
     "name": "stdout",
     "output_type": "stream",
     "text": [
      "Epoch 34000: Loss = 46.3394, Data Loss = 30.5534, ODE Loss = 15.7860\n"
     ]
    },
    {
     "name": "stderr",
     "output_type": "stream",
     "text": [
      " 35%|███▌      | 35016/100000 [07:35<15:02, 72.03it/s]"
     ]
    },
    {
     "name": "stdout",
     "output_type": "stream",
     "text": [
      "Epoch 35000: Loss = 43.4868, Data Loss = 29.6953, ODE Loss = 13.7915\n"
     ]
    },
    {
     "name": "stderr",
     "output_type": "stream",
     "text": [
      " 36%|███▌      | 36011/100000 [07:48<13:54, 76.67it/s]"
     ]
    },
    {
     "name": "stdout",
     "output_type": "stream",
     "text": [
      "Epoch 36000: Loss = 40.3476, Data Loss = 28.4663, ODE Loss = 11.8813\n"
     ]
    },
    {
     "name": "stderr",
     "output_type": "stream",
     "text": [
      " 37%|███▋      | 37015/100000 [08:01<13:53, 75.53it/s]"
     ]
    },
    {
     "name": "stdout",
     "output_type": "stream",
     "text": [
      "Epoch 37000: Loss = 37.8269, Data Loss = 27.2277, ODE Loss = 10.5992\n"
     ]
    },
    {
     "name": "stderr",
     "output_type": "stream",
     "text": [
      " 38%|███▊      | 38017/100000 [08:14<12:59, 79.47it/s]"
     ]
    },
    {
     "name": "stdout",
     "output_type": "stream",
     "text": [
      "Epoch 38000: Loss = 34.9639, Data Loss = 25.6598, ODE Loss = 9.3041\n"
     ]
    },
    {
     "name": "stderr",
     "output_type": "stream",
     "text": [
      " 39%|███▉      | 39010/100000 [08:27<13:10, 77.16it/s]"
     ]
    },
    {
     "name": "stdout",
     "output_type": "stream",
     "text": [
      "Epoch 39000: Loss = 32.6169, Data Loss = 24.2524, ODE Loss = 8.3646\n"
     ]
    },
    {
     "name": "stderr",
     "output_type": "stream",
     "text": [
      " 40%|████      | 40015/100000 [08:40<12:57, 77.11it/s]"
     ]
    },
    {
     "name": "stdout",
     "output_type": "stream",
     "text": [
      "Epoch 40000: Loss = 30.1966, Data Loss = 22.6402, ODE Loss = 7.5564\n"
     ]
    },
    {
     "name": "stderr",
     "output_type": "stream",
     "text": [
      " 41%|████      | 41011/100000 [08:53<12:45, 77.07it/s]"
     ]
    },
    {
     "name": "stdout",
     "output_type": "stream",
     "text": [
      "Epoch 41000: Loss = 28.2976, Data Loss = 21.3278, ODE Loss = 6.9698\n"
     ]
    },
    {
     "name": "stderr",
     "output_type": "stream",
     "text": [
      " 42%|████▏     | 42011/100000 [09:06<12:45, 75.79it/s]"
     ]
    },
    {
     "name": "stdout",
     "output_type": "stream",
     "text": [
      "Epoch 42000: Loss = 26.4168, Data Loss = 19.9623, ODE Loss = 6.4545\n"
     ]
    },
    {
     "name": "stderr",
     "output_type": "stream",
     "text": [
      " 43%|████▎     | 43015/100000 [09:19<12:36, 75.29it/s]"
     ]
    },
    {
     "name": "stdout",
     "output_type": "stream",
     "text": [
      "Epoch 43000: Loss = 24.8977, Data Loss = 18.9286, ODE Loss = 5.9691\n"
     ]
    },
    {
     "name": "stderr",
     "output_type": "stream",
     "text": [
      " 44%|████▍     | 44012/100000 [09:32<12:16, 75.98it/s]"
     ]
    },
    {
     "name": "stdout",
     "output_type": "stream",
     "text": [
      "Epoch 44000: Loss = 23.5684, Data Loss = 17.9107, ODE Loss = 5.6577\n"
     ]
    },
    {
     "name": "stderr",
     "output_type": "stream",
     "text": [
      " 45%|████▌     | 45009/100000 [09:45<11:43, 78.18it/s]"
     ]
    },
    {
     "name": "stdout",
     "output_type": "stream",
     "text": [
      "Epoch 45000: Loss = 22.7014, Data Loss = 17.2298, ODE Loss = 5.4715\n"
     ]
    },
    {
     "name": "stderr",
     "output_type": "stream",
     "text": [
      " 46%|████▌     | 46016/100000 [09:58<11:50, 75.93it/s]"
     ]
    },
    {
     "name": "stdout",
     "output_type": "stream",
     "text": [
      "Epoch 46000: Loss = 22.0007, Data Loss = 16.7820, ODE Loss = 5.2187\n"
     ]
    },
    {
     "name": "stderr",
     "output_type": "stream",
     "text": [
      " 47%|████▋     | 47015/100000 [10:11<11:16, 78.37it/s]"
     ]
    },
    {
     "name": "stdout",
     "output_type": "stream",
     "text": [
      "Epoch 47000: Loss = 21.7264, Data Loss = 16.5407, ODE Loss = 5.1857\n"
     ]
    },
    {
     "name": "stderr",
     "output_type": "stream",
     "text": [
      " 48%|████▊     | 48016/100000 [10:24<11:31, 75.21it/s]"
     ]
    },
    {
     "name": "stdout",
     "output_type": "stream",
     "text": [
      "Epoch 48000: Loss = 21.3415, Data Loss = 16.2858, ODE Loss = 5.0557\n"
     ]
    },
    {
     "name": "stderr",
     "output_type": "stream",
     "text": [
      " 49%|████▉     | 49009/100000 [10:37<10:57, 77.51it/s]"
     ]
    },
    {
     "name": "stdout",
     "output_type": "stream",
     "text": [
      "Epoch 49000: Loss = 21.1608, Data Loss = 16.1762, ODE Loss = 4.9847\n"
     ]
    },
    {
     "name": "stderr",
     "output_type": "stream",
     "text": [
      " 50%|█████     | 50014/100000 [10:49<10:39, 78.17it/s]"
     ]
    },
    {
     "name": "stdout",
     "output_type": "stream",
     "text": [
      "Epoch 50000: Loss = 21.1248, Data Loss = 16.0433, ODE Loss = 5.0816\n"
     ]
    },
    {
     "name": "stderr",
     "output_type": "stream",
     "text": [
      " 51%|█████     | 51010/100000 [11:02<10:40, 76.55it/s]"
     ]
    },
    {
     "name": "stdout",
     "output_type": "stream",
     "text": [
      "Epoch 51000: Loss = 20.9945, Data Loss = 15.9698, ODE Loss = 5.0247\n"
     ]
    },
    {
     "name": "stderr",
     "output_type": "stream",
     "text": [
      " 52%|█████▏    | 52014/100000 [11:15<10:23, 76.94it/s]"
     ]
    },
    {
     "name": "stdout",
     "output_type": "stream",
     "text": [
      "Epoch 52000: Loss = 20.7298, Data Loss = 15.8962, ODE Loss = 4.8336\n"
     ]
    },
    {
     "name": "stderr",
     "output_type": "stream",
     "text": [
      " 53%|█████▎    | 53011/100000 [11:28<10:09, 77.13it/s]"
     ]
    },
    {
     "name": "stdout",
     "output_type": "stream",
     "text": [
      "Epoch 53000: Loss = 20.6509, Data Loss = 15.8272, ODE Loss = 4.8237\n"
     ]
    },
    {
     "name": "stderr",
     "output_type": "stream",
     "text": [
      " 54%|█████▍    | 54010/100000 [11:41<10:31, 72.85it/s]"
     ]
    },
    {
     "name": "stdout",
     "output_type": "stream",
     "text": [
      "Epoch 54000: Loss = 20.6414, Data Loss = 15.7511, ODE Loss = 4.8903\n"
     ]
    },
    {
     "name": "stderr",
     "output_type": "stream",
     "text": [
      " 55%|█████▌    | 55016/100000 [11:54<09:43, 77.03it/s]"
     ]
    },
    {
     "name": "stdout",
     "output_type": "stream",
     "text": [
      "Epoch 55000: Loss = 20.5259, Data Loss = 15.6837, ODE Loss = 4.8422\n"
     ]
    },
    {
     "name": "stderr",
     "output_type": "stream",
     "text": [
      " 56%|█████▌    | 56010/100000 [12:06<09:43, 75.44it/s]"
     ]
    },
    {
     "name": "stdout",
     "output_type": "stream",
     "text": [
      "Epoch 56000: Loss = 20.4813, Data Loss = 15.6131, ODE Loss = 4.8682\n"
     ]
    },
    {
     "name": "stderr",
     "output_type": "stream",
     "text": [
      " 57%|█████▋    | 57010/100000 [12:19<09:16, 77.25it/s]"
     ]
    },
    {
     "name": "stdout",
     "output_type": "stream",
     "text": [
      "Epoch 57000: Loss = 20.4422, Data Loss = 15.5823, ODE Loss = 4.8599\n"
     ]
    },
    {
     "name": "stderr",
     "output_type": "stream",
     "text": [
      " 58%|█████▊    | 58011/100000 [12:32<09:03, 77.22it/s]"
     ]
    },
    {
     "name": "stdout",
     "output_type": "stream",
     "text": [
      "Epoch 58000: Loss = 20.3146, Data Loss = 15.5465, ODE Loss = 4.7681\n"
     ]
    },
    {
     "name": "stderr",
     "output_type": "stream",
     "text": [
      " 59%|█████▉    | 59012/100000 [12:45<08:56, 76.41it/s]"
     ]
    },
    {
     "name": "stdout",
     "output_type": "stream",
     "text": [
      "Epoch 59000: Loss = 20.3841, Data Loss = 15.5240, ODE Loss = 4.8600\n"
     ]
    },
    {
     "name": "stderr",
     "output_type": "stream",
     "text": [
      " 60%|██████    | 60011/100000 [12:58<08:33, 77.82it/s]"
     ]
    },
    {
     "name": "stdout",
     "output_type": "stream",
     "text": [
      "Epoch 60000: Loss = 20.3390, Data Loss = 15.4945, ODE Loss = 4.8445\n"
     ]
    },
    {
     "name": "stderr",
     "output_type": "stream",
     "text": [
      " 61%|██████    | 61011/100000 [13:11<08:54, 72.97it/s]"
     ]
    },
    {
     "name": "stdout",
     "output_type": "stream",
     "text": [
      "Epoch 61000: Loss = 20.2569, Data Loss = 15.4668, ODE Loss = 4.7902\n"
     ]
    },
    {
     "name": "stderr",
     "output_type": "stream",
     "text": [
      " 62%|██████▏   | 62013/100000 [13:24<08:13, 76.97it/s]"
     ]
    },
    {
     "name": "stdout",
     "output_type": "stream",
     "text": [
      "Epoch 62000: Loss = 20.2379, Data Loss = 15.4338, ODE Loss = 4.8042\n"
     ]
    },
    {
     "name": "stderr",
     "output_type": "stream",
     "text": [
      " 63%|██████▎   | 63010/100000 [13:37<07:54, 77.94it/s]"
     ]
    },
    {
     "name": "stdout",
     "output_type": "stream",
     "text": [
      "Epoch 63000: Loss = 20.1852, Data Loss = 15.4058, ODE Loss = 4.7794\n"
     ]
    },
    {
     "name": "stderr",
     "output_type": "stream",
     "text": [
      " 64%|██████▍   | 64013/100000 [13:50<08:08, 73.59it/s]"
     ]
    },
    {
     "name": "stdout",
     "output_type": "stream",
     "text": [
      "Epoch 64000: Loss = 20.1431, Data Loss = 15.3826, ODE Loss = 4.7605\n"
     ]
    },
    {
     "name": "stderr",
     "output_type": "stream",
     "text": [
      " 65%|██████▌   | 65016/100000 [14:03<07:37, 76.54it/s]"
     ]
    },
    {
     "name": "stdout",
     "output_type": "stream",
     "text": [
      "Epoch 65000: Loss = 20.1375, Data Loss = 15.3683, ODE Loss = 4.7692\n"
     ]
    },
    {
     "name": "stderr",
     "output_type": "stream",
     "text": [
      " 65%|██████▌   | 65170/100000 [14:05<07:31, 77.07it/s]"
     ]
    },
    {
     "name": "stdout",
     "output_type": "stream",
     "text": [
      "Early stopping at epoch 65170. Best loss: 19.9916 at epoch 64170.\n",
      "Loaded best model weights.\n"
     ]
    },
    {
     "name": "stderr",
     "output_type": "stream",
     "text": [
      "\n"
     ]
    }
   ],
   "source": [
    "model_name = \"pinc_model_br.pth\"\n",
    "model_exists = os.path.exists(f'./models/{model_name}')\n",
    "\n",
    "if model_exists:\n",
    "    # Load the model\n",
    "    net = PINN(input_dim=in_train.shape[1], output_dim=out_train.shape[1]).to(DEVICE)\n",
    "    net.load_state_dict(torch.load(f'./models/{model_name}', weights_only=True))\n",
    "    net.eval()\n",
    "else:\n",
    "    # Main\n",
    "    net = PINN(input_dim=in_train.shape[1], output_dim=out_train.shape[1]).to(DEVICE)\n",
    "    optimizer = torch.optim.Adam(net.parameters(), lr=LEARNING_RATE)\n",
    "    scheduler = torch.optim.lr_scheduler.StepLR(optimizer, step_size=2000, gamma=0.75)\n",
    "\n",
    "    # Loss weights\n",
    "    w_data, w_ode, w_ic = 1, 1, 0.0\n",
    "\n",
    "    # Initialize early stopping variables\n",
    "    best_loss = float(\"inf\")\n",
    "    best_model_weights = None\n",
    "    patience = PATIENCE\n",
    "    threshold = THRESHOLD\n",
    "    pretrain_epochs = 0\n",
    "    \n",
    "    for epoch in tqdm(range(NUM_EPOCHS)):\n",
    "        optimizer.zero_grad()\n",
    "        preds = net.forward(in_train)\n",
    "        X_pred = preds[:, 0].view(-1, 1)\n",
    "        S_pred = preds[:, 1].view(-1, 1)\n",
    "        V_pred = preds[:, 2].view(-1, 1)\n",
    "        \n",
    "        w_X, w_S, w_V = 0.7, 0.2, 0.1\n",
    "        loss_data = torch.mean((X_pred - out_train[:, 0].view(-1, 1))**2) * w_X + \\\n",
    "                    torch.mean((S_pred - out_train[:, 1].view(-1, 1))**2) * w_S + \\\n",
    "                    torch.mean((V_pred - out_train[:, 2].view(-1, 1))**2) * w_V\n",
    "        \n",
    "        if epoch < pretrain_epochs:\n",
    "            loss = loss_data * w_data\n",
    "        else:\n",
    "            loss_ode = loss_fn(net)\n",
    "            loss = w_data * loss_data + w_ode * loss_ode\n",
    "        loss.backward()\n",
    "        optimizer.step()\n",
    "        scheduler.step()\n",
    "        \n",
    "        if epoch % 1000 == 0:\n",
    "            if epoch < pretrain_epochs:\n",
    "                print(f\"Epoch {epoch}: Loss = {loss_data.item():.4f}\")\n",
    "            else:\n",
    "                print(f\"Epoch {epoch}: Loss = {loss.item():.4f}, Data Loss = {loss_data.item():.4f}, ODE Loss = {loss_ode.item():.4f}\")\n",
    "        \n",
    "        # Early stopping\n",
    "        if epoch >= EARLY_STOPPING_EPOCH:\n",
    "            if loss.item() < best_loss - threshold:\n",
    "                best_loss = loss.item()\n",
    "                best_model_weights = copy.deepcopy(net.state_dict())\n",
    "                patience = PATIENCE\n",
    "            else:\n",
    "                patience -= 1\n",
    "                if patience <= 0:\n",
    "                    print(f\"Early stopping at epoch {epoch}. Best loss: {best_loss:.4f} at epoch {epoch - PATIENCE}.\")\n",
    "                    break\n",
    "\n",
    "    # Load best model weights\n",
    "    if best_model_weights is not None:\n",
    "        net.load_state_dict(best_model_weights)\n",
    "        net.eval()\n",
    "        print(\"Loaded best model weights.\")\n",
    "    else:\n",
    "        print(\"No model weights to load.\")\n",
    "        net.eval()\n",
    "\n",
    "    # Save the model\n",
    "    torch.save(net.state_dict(), f'./models/{model_name}')\n"
   ]
  },
  {
   "cell_type": "code",
   "execution_count": 26,
   "metadata": {},
   "outputs": [],
   "source": [
    "# Load the model\n",
    "net = PINN(input_dim=in_train.shape[1], output_dim=out_train.shape[1]).to(DEVICE)\n",
    "\n",
    "net.load_state_dict(torch.load(f'./models/{model_name}', weights_only=True))\n",
    "net.eval()\n",
    "\n",
    "def flow_rate(t: float) -> float:\n",
    "    \"\"\"Flow rate as a function of time\"\"\"\n",
    "    if t < 0.5:\n",
    "        return 0.01\n",
    "    elif t < 5.0:\n",
    "        return 0.1\n",
    "    else:\n",
    "        return 0.00\n",
    "\n",
    "# System dynamics\n",
    "def system_dynamics(t: float, y: float, F: Union[callable, float]) -> np.array:\n",
    "    X, S, V = y\n",
    "    Fs = F(t) if callable(F) else F\n",
    "    dX_dt = (MU_MAX * S / (K_S + S)) * X - (Fs / V) * X\n",
    "    dS_dt = -(1 / Y_XS) * (MU_MAX * S / (K_S + S)) * X + (Fs / V) * (S_F - S)\n",
    "    dV_dt = Fs\n",
    "    return np.array([dX_dt, dS_dt, dV_dt])\n",
    "\n",
    "def solve_ode(ode: callable, t_span: list, y0: list, method: str, t_eval: list, args: tuple) -> solve_ivp:\n",
    "    sol = solve_ivp(ode, t_span=t_span, y0=y0, method=method, args=args, t_eval=t_eval, rtol=1e-6, atol=1e-12)\n",
    "    # sol.y = np.maximum(sol.y, 0)\n",
    "    return sol\n",
    "\n",
    "sol = solve_ode(system_dynamics, t_span=[T_START, T_END], y0=[X_0, S_0, V_0], method=ODE_SOLVER, \\\n",
    "                t_eval=np.arange(T_START, T_END, dt), args=(flow_rate,))\n",
    "df = pd.DataFrame(sol.y.T, columns=['X', 'S', 'V'])\n",
    "df['Time'] = sol.t\n",
    "\n",
    "T_s = 0.1\n",
    "t_test = numpy_to_tensor(np.array([df['Time'].values]))\n",
    "X_test = numpy_to_tensor(np.array([df['X'].values]))\n",
    "S_test = numpy_to_tensor(np.array([df['S'].values]))\n",
    "V_test = numpy_to_tensor(np.array([df['V'].values]))\n",
    "F_test = numpy_to_tensor(np.array([flow_rate(t) for t in df['Time'].values]))\n",
    "u_test = torch.cat([t_test, X_test, S_test, V_test, F_test], dim=1)\n",
    "x_test = torch.cat([X_test, S_test, V_test], dim=1)\n",
    "\n",
    "X_0 = X_test[0]\n",
    "S_0 = S_test[0]\n",
    "V_0 = V_test[0]\n",
    "F_0 = F_test[0]\n",
    "\n",
    "X_preds = []\n",
    "S_preds = []\n",
    "V_preds = []\n",
    "\n",
    "net.eval()\n",
    "for i in range(len(u_test)):\n",
    "\n",
    "    if i == 0:\n",
    "        X_preds.append(X_0.item())\n",
    "        S_preds.append(S_0.item())\n",
    "        V_preds.append(V_0.item())\n",
    "        continue\n",
    "\n",
    "    x_k = net.forward(torch.tensor([T_s, X_0, S_0, V_0, F_0], dtype=torch.float32).to(DEVICE))\n",
    "    X_0 = X_test[i]\n",
    "    S_0 = S_test[i]\n",
    "    V_0 = V_test[i]\n",
    "    F_0 = F_test[i]\n",
    "    X_preds.append(x_k[0].item())\n",
    "    S_preds.append(x_k[1].item())\n",
    "    V_preds.append(x_k[2].item())"
   ]
  },
  {
   "cell_type": "code",
   "execution_count": 27,
   "metadata": {},
   "outputs": [
    {
     "data": {
      "image/png": "[encoded data removed]",
      "text/plain": [
       "<Figure size 1000x500 with 1 Axes>"
      ]
     },
     "metadata": {},
     "output_type": "display_data"
    }
   ],
   "source": [
    "plt.figure(figsize=(10, 5))\n",
    "plt.scatter(df['Time'], df['X'], label='X (g/L)', color='blue', s=10)\n",
    "plt.scatter(df['Time'], df['S'], label='S (g/L)', color='orange', s=10)\n",
    "\n",
    "plt.plot(t_test.detach().cpu().numpy(), X_preds, marker='x', label=\"_X_pred\")\n",
    "plt.plot(t_test.detach().cpu().numpy(), S_preds, marker='x', label=\"_S_pred\")\n",
    "plt.ylabel(\"Concentration (g/L)\")\n",
    "plt.legend(loc=\"best\") \n",
    "\n",
    "plt.xticks(np.arange(0, 6, 0.5))\n",
    "plt.xlabel(\"Time (h)\")\n",
    "plt.show()"
   ]
  }
 ],
 "metadata": {
  "kernelspec": {
   "display_name": "main",
   "language": "python",
   "name": "python3"
  },
  "language_info": {
   "codemirror_mode": {
    "name": "ipython",
    "version": 3
   },
   "file_extension": ".py",
   "mimetype": "text/x-python",
   "name": "python",
   "nbconvert_exporter": "python",
   "pygments_lexer": "ipython3",
   "version": "3.10.12"
  }
 },
 "nbformat": 4,
 "nbformat_minor": 2
}
