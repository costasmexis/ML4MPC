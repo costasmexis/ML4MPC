{
 "cells": [
  {
   "cell_type": "code",
   "execution_count": null,
   "metadata": {},
   "outputs": [],
   "source": [
    "%load_ext autoreload\n",
    "%autoreload 2"
   ]
  },
  {
   "cell_type": "code",
   "execution_count": 2,
   "metadata": {},
   "outputs": [],
   "source": [
    "import numpy as np\n",
    "import matplotlib.pyplot as plt\n",
    "from scipy.optimize import minimize, LinearConstraint\n",
    "from tqdm import tqdm\n",
    "import torch\n",
    "import torch.nn as nn\n",
    "from sklearn.svm import SVR\n",
    "from sklearn.linear_model import LinearRegression\n",
    "from src.cstr import *\n",
    "from src.machinelearning import *\n",
    "\n",
    "device = torch.device('cuda' if torch.cuda.is_available() else 'cpu')"
   ]
  },
  {
   "cell_type": "code",
   "execution_count": null,
   "metadata": {},
   "outputs": [],
   "source": [
    "df = generate_training_data(samples=10000)\n",
    "X = df[['w1', 'Cb']].values\n",
    "y = df['Cb_next'].values"
   ]
  },
  {
   "cell_type": "code",
   "execution_count": 4,
   "metadata": {},
   "outputs": [],
   "source": [
    "# model = SVR(kernel='rbf', C=10).fit(X, y)"
   ]
  },
  {
   "cell_type": "code",
   "execution_count": null,
   "metadata": {},
   "outputs": [],
   "source": [
    "model = NeuralNet(2,1).to(device)\n",
    "model = train_nn(model, X, y, 5000)"
   ]
  },
  {
   "cell_type": "code",
   "execution_count": null,
   "metadata": {},
   "outputs": [],
   "source": [
    "# --- Cost Function ---\n",
    "def mpc_cost(w1_seq,Cb_ref, Cb0, w2, model, Q, R, N):\n",
    "    cost = 0\n",
    "    Cb = Cb0\n",
    "    for idx in range(N):\n",
    "        w1 = w1_seq[idx]\n",
    "        Cb = model_predict(Cb, w1, w2, model)\n",
    "        cost += Q * (Cb_ref[idx] - Cb) ** 2\n",
    "        if idx > 0:  # Penalize difference between consecutive control actions\n",
    "            cost += R * (w1 - w1_seq[idx - 1]) ** 2\n",
    "    return cost\n",
    "\n",
    "# --- MPC Solver ---\n",
    "def solve_mpc(Cb_ref, Cb, w1_ini, w2, model, Q, R, N, w1_min, w1_max, delta_w1_max):\n",
    "    \"\"\"\n",
    "    Solve the MPC optimization problem.\n",
    "    \"\"\"\n",
    "    # Ensure the reference trajectory matches the prediction horizon\n",
    "    if len(Cb_ref) < N:\n",
    "        Cb_ref = np.append(Cb_ref, [Cb_ref[-1]] * (N - len(Cb_ref)))  # Pad with the last value\n",
    "\n",
    "    # Linear constraints on the rate of change of w1\n",
    "    delta_w1_matrix = np.eye(N) - np.eye(N, k=1)\n",
    "    rate_constraint = LinearConstraint(delta_w1_matrix, -delta_w1_max, delta_w1_max)\n",
    "\n",
    "    # Bounds on the control input\n",
    "    bounds = [(w1_min, w1_max) for _ in range(N)]\n",
    "\n",
    "    # Solve the optimization problem\n",
    "    result = minimize(\n",
    "        mpc_cost,\n",
    "        w1_ini,\n",
    "        args=(Cb_ref, Cb, w2, model, Q, R, N),\n",
    "        bounds=bounds,\n",
    "        constraints=[rate_constraint],\n",
    "    )\n",
    "\n",
    "    # Handle optimization failures\n",
    "    if not result.success:\n",
    "        print(\"Optimization failed, using default control inputs\")\n",
    "        return np.ones(N) * w1_min\n",
    "\n",
    "    return result.x\n",
    "\n",
    "# --- Simulation Setup ---\n",
    "Cb = np.zeros(L + 1)\n",
    "Cb[0] = Cb0\n",
    "w1 = np.zeros(L)\n",
    "Cb_ref = np.array([20.9 if t < 20 else 21.0 if t < 40 else 20.5 for t in range(L)])\n",
    "w1_ini = np.ones(N) * 2.0\n",
    "\n",
    "for idx in tqdm(range(L)):\n",
    "    # Adjust the reference trajectory slice for the prediction horizon\n",
    "    Cb_ref_slice = Cb_ref[idx:idx+N]\n",
    "    if len(Cb_ref_slice) < N:\n",
    "        Cb_ref_slice = np.append(Cb_ref_slice, [Cb_ref_slice[-1]] * (N - len(Cb_ref_slice)))\n",
    "\n",
    "    # Solve the MPC optimization problem\n",
    "    w1_mpc = solve_mpc(\n",
    "        Cb_ref_slice, Cb[idx], w1_ini, w2, model, Q, R, N, w1_min, w1_max, delta_w1_max\n",
    "    )\n",
    "\n",
    "    # Apply the first control input\n",
    "    w1[idx] = w1_mpc[0]\n",
    "    w1_ini = np.append(w1_mpc[1:], w1_mpc[-1])  # Shift control sequence\n",
    "\n",
    "    # Update system state using NN\n",
    "    Cb[idx+1]=model_predict(Cb[idx],w1[idx],w2,model)\n",
    "\n",
    "# --- Plot Results ---\n",
    "plt.figure(figsize=(12, 6))\n",
    "plt.subplot(2, 1, 1)\n",
    "plt.plot(range(L + 1), Cb, label=\"True Concentration (Cb)\", color=\"orange\")\n",
    "plt.plot(range(L), Cb_ref, label=\"Set Point (Cb_ref)\", linestyle=\"--\", color=\"red\")\n",
    "plt.xlabel(\"Time\")\n",
    "plt.ylabel(\"Concentration (Cb)\")\n",
    "plt.title(\"Concentration vs. Time\")\n",
    "plt.legend()\n",
    "plt.grid()\n",
    "\n",
    "plt.subplot(2, 1, 2)\n",
    "plt.step(range(L), w1, where=\"post\", label=\"Control Input (w1)\", color=\"blue\")\n",
    "plt.xlabel(\"Time\")\n",
    "plt.ylabel(\"Inflow Rate (w1)\")\n",
    "plt.title(\"Control Input vs. Time\")\n",
    "plt.legend()\n",
    "plt.grid()\n",
    "\n",
    "plt.tight_layout()\n",
    "plt.show()"
   ]
  }
 ],
 "metadata": {
  "kernelspec": {
   "display_name": "main",
   "language": "python",
   "name": "python3"
  },
  "language_info": {
   "codemirror_mode": {
    "name": "ipython",
    "version": 3
   },
   "file_extension": ".py",
   "mimetype": "text/x-python",
   "name": "python",
   "nbconvert_exporter": "python",
   "pygments_lexer": "ipython3",
   "version": "3.10.13"
  }
 },
 "nbformat": 4,
 "nbformat_minor": 2
}
