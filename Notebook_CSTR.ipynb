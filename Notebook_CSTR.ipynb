{
 "cells": [
  {
   "cell_type": "code",
   "execution_count": null,
   "metadata": {},
   "outputs": [],
   "source": [
    "%load_ext autoreload\n",
    "%autoreload 2"
   ]
  },
  {
   "cell_type": "code",
   "execution_count": null,
   "metadata": {},
   "outputs": [],
   "source": [
    "import numpy as np\n",
    "import matplotlib.pyplot as plt\n",
    "from scipy.optimize import minimize, LinearConstraint\n",
    "from tqdm import tqdm\n",
    "import torch\n",
    "import torch.nn as nn\n",
    "from sklearn.svm import SVR\n",
    "from sklearn.linear_model import LinearRegression\n",
    "from src.cstr import *\n",
    "from src.machinelearning import *\n",
    "\n",
    "device = torch.device('cuda' if torch.cuda.is_available() else 'cpu')"
   ]
  },
  {
   "cell_type": "code",
   "execution_count": null,
   "metadata": {},
   "outputs": [],
   "source": [
    "df = generate_training_data(samples=10000, return_df=True)\n",
    "X = df[['w1', 'w2', 'Cb']].values\n",
    "y = df['Cb_next'].values"
   ]
  },
  {
   "cell_type": "markdown",
   "metadata": {},
   "source": [
    "#### Modeling"
   ]
  },
  {
   "cell_type": "code",
   "execution_count": null,
   "metadata": {},
   "outputs": [],
   "source": [
    "input_dim = X.shape[1]\n",
    "output_dim = 1\n",
    "\n",
    "model = NeuralNet(input_dim,output_dim).to(device)\n",
    "model = train_nn(model, X, y, 20000)\n",
    "\n",
    "# # Or use a SVR\n",
    "# model = SVR(C=10).fit(X, y)"
   ]
  },
  {
   "cell_type": "markdown",
   "metadata": {},
   "source": [
    "#### Optimization"
   ]
  },
  {
   "cell_type": "code",
   "execution_count": null,
   "metadata": {},
   "outputs": [],
   "source": [
    "Cb_ref = np.array([20.9 if t < 20 else 21.0 if t < 40 else 20.5 for t in range(L)])\n",
    "\n",
    "Cb_res, w1_res = simulation(model, Cb_ref, method='PSO')"
   ]
  },
  {
   "cell_type": "code",
   "execution_count": null,
   "metadata": {},
   "outputs": [],
   "source": [
    "plot_results(Cb_res, Cb_ref, w1_res)"
   ]
  },
  {
   "cell_type": "markdown",
   "metadata": {},
   "source": [
    "#### Evaluation of optimal `w1` using the real system dynamics"
   ]
  },
  {
   "cell_type": "code",
   "execution_count": null,
   "metadata": {},
   "outputs": [],
   "source": [
    "from scipy.integrate import odeint\n",
    "from scipy.interpolate import interp1d\n",
    "\n",
    "# --- Real System Dynamics --- #\n",
    "def system_of_odes(t, y, w2):\n",
    "    h, Cb = y\n",
    "    w1 = w1_func(t)  # Get w1 at time t using interpolation\n",
    "    dh_dt = w1 + w2 - 0.2 * np.sqrt(h)\n",
    "    dCb_dt = ((Cb1 - Cb) * w1 / h + (Cb2 - Cb) * w2 / h - k1 * Cb / (1 + k2 * Cb)**2)\n",
    "    return [dh_dt, dCb_dt]\n",
    "\n",
    "# Make negative w1_res zero\n",
    "t_points = np.arange(0, L, dt)  \n",
    "w1_func = interp1d(t_points, w1_res, kind='linear', fill_value=\"extrapolate\")"
   ]
  },
  {
   "cell_type": "code",
   "execution_count": null,
   "metadata": {},
   "outputs": [],
   "source": [
    "t_span = (0, L)  # From t=0 to t=L\n",
    "y0 = [h0, Cb0]  # Initial\n",
    "times = np.arange(0, L, dt)\n",
    "sol_t = [0]\n",
    "sol_h = [h0]\n",
    "sol_Cb = [Cb0]\n",
    "\n",
    "for i in range(len(times)-1):\n",
    "    sol = solve_ivp(system_of_odes, [times[i], times[i+1]], y0, args=(w2,), method='RK45')  \n",
    "    y0 = sol.y[:, -1]  # Update initial condition\n",
    "    sol_t.append(times[i+1])\n",
    "    sol_h.append(y0[0])\n",
    "    sol_Cb.append(y0[1])\n",
    "    \n",
    "sol_t = np.array(sol_t)\n",
    "sol_h = np.array(sol_h)\n",
    "sol_Cb = np.array(sol_Cb)\n",
    "\n",
    "# --- Plotting --- #\n",
    "plt.figure(figsize=(10, 3))\n",
    "plt.plot(sol_t, sol_Cb, label='Concentration (Cb)', color='orange')\n",
    "plt.plot(sol_t, Cb_ref, label='Reference Concentration (Cb_ref)', color='red', linestyle='--')\n",
    "plt.xlabel('Time')\n",
    "plt.ylabel('Concentration')\n",
    "plt.legend()\n",
    "plt.tight_layout()\n",
    "plt.show()"
   ]
  },
  {
   "cell_type": "code",
   "execution_count": null,
   "metadata": {},
   "outputs": [],
   "source": [
    "# Time span for the solution\n",
    "t_span = (0, L)  # From t=0 to t=L\n",
    "y0 = [h0, Cb0]  # Initial\n",
    "sol = solve_ivp(system_of_odes, t_span, y0, args=(w2,), \n",
    "                method='Radau', t_eval=np.arange(0, L, dt))\n",
    "\n",
    "# Extract the solution\n",
    "t = sol.t\n",
    "h = sol.y[0]\n",
    "Cb = sol.y[1]\n",
    "\n",
    "# Plot the results\n",
    "plt.figure(figsize=(10, 3))\n",
    "plt.plot(t, Cb, label='Concentration (Cb)', color='orange')\n",
    "plt.plot(t, Cb_ref, label='Reference Concentration (Cb_ref)', color='red', linestyle='--')\n",
    "plt.xlabel('Time')\n",
    "plt.ylabel('Concentration')\n",
    "plt.legend()\n",
    "\n",
    "# Plot the input w1\n",
    "plt.figure(figsize=(10, 3))\n",
    "plt.step(t, w1_func(t), label='w1')\n",
    "plt.xlabel('Time')\n",
    "plt.ylabel('w1')    \n",
    "plt.legend()\n",
    "\n",
    "plt.tight_layout()\n",
    "plt.show()\n",
    "\n",
    "# Plot h \n",
    "plt.figure(figsize=(10, 3))\n",
    "plt.plot(t, h, label='Height (h)', color='blue')\n",
    "plt.xlabel('Time')\n",
    "plt.ylabel('Height')\n",
    "plt.legend()\n",
    "plt.tight_layout()\n",
    "plt.show()"
   ]
  },
  {
   "cell_type": "code",
   "execution_count": null,
   "metadata": {},
   "outputs": [],
   "source": [
    "results_df = pd.DataFrame()\n",
    "results_df['MPC'] = Cb_res[:-1]\n",
    "results_df['Real'] = Cb\n",
    "results_df['Diff'] = np.abs(results_df['MPC'] - results_df['Real'])\n",
    "results_df"
   ]
  },
  {
   "cell_type": "code",
   "execution_count": null,
   "metadata": {},
   "outputs": [],
   "source": [
    "# Plot results\n",
    "plt.figure(figsize=(10, 3))\n",
    "plt.plot(t, Cb, label='Real', color='blue')\n",
    "plt.plot(t, Cb_ref, label='Reference', color='red', linestyle='--')\n",
    "plt.plot(Cb_res, label='MPC', color='green', linestyle='-')\n",
    "plt.xlabel('Time')\n",
    "plt.ylabel('Concentration')\n",
    "plt.legend()\n",
    "plt.tight_layout()\n",
    "plt.show()"
   ]
  },
  {
   "cell_type": "code",
   "execution_count": null,
   "metadata": {},
   "outputs": [],
   "source": []
  },
  {
   "cell_type": "code",
   "execution_count": null,
   "metadata": {},
   "outputs": [],
   "source": []
  }
 ],
 "metadata": {
  "kernelspec": {
   "display_name": ".kostas",
   "language": "python",
   "name": "python3"
  },
  "language_info": {
   "codemirror_mode": {
    "name": "ipython",
    "version": 3
   },
   "file_extension": ".py",
   "mimetype": "text/x-python",
   "name": "python",
   "nbconvert_exporter": "python",
   "pygments_lexer": "ipython3",
   "version": "3.11.10"
  }
 },
 "nbformat": 4,
 "nbformat_minor": 2
}
